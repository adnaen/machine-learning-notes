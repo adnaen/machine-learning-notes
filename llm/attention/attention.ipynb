{
  "nbformat": 4,
  "nbformat_minor": 0,
  "metadata": {
    "colab": {
      "provenance": [],
      "authorship_tag": "ABX9TyMrR8IIzseOXkJY/LwyXk1f",
      "include_colab_link": true
    },
    "kernelspec": {
      "name": "python3",
      "display_name": "Python 3"
    },
    "language_info": {
      "name": "python"
    }
  },
  "cells": [
    {
      "cell_type": "markdown",
      "metadata": {
        "id": "view-in-github",
        "colab_type": "text"
      },
      "source": [
        "<a href=\"https://colab.research.google.com/github/adnaen/machine-learning-notes/blob/main/llm/attention/attention.ipynb\" target=\"_parent\"><img src=\"https://colab.research.google.com/assets/colab-badge.svg\" alt=\"Open In Colab\"/></a>"
      ]
    },
    {
      "cell_type": "code",
      "execution_count": 70,
      "metadata": {
        "id": "kZn9a6EOytCf"
      },
      "outputs": [],
      "source": [
        "import torch"
      ]
    },
    {
      "cell_type": "markdown",
      "source": [
        "## Tokenizing & Embedding"
      ],
      "metadata": {
        "id": "8rDA-xQUO-Cs"
      }
    },
    {
      "cell_type": "code",
      "source": [
        "text = \"cat sat on mat\"\n",
        "text_idx = torch.tensor([1, 3, 4, 5])"
      ],
      "metadata": {
        "id": "vT8cBewPOS11"
      },
      "execution_count": 74,
      "outputs": []
    },
    {
      "cell_type": "code",
      "source": [
        "VOCAB_SIZE: int = 6\n",
        "EMBEDDING_DIM: int = 2\n",
        "\n",
        "embedder = torch.nn.Embedding(num_embeddings=VOCAB_SIZE, embedding_dim=EMBEDDING_DIM)\n",
        "embd_text = embedder(text_idx)\n",
        "embd_text"
      ],
      "metadata": {
        "colab": {
          "base_uri": "https://localhost:8080/"
        },
        "id": "MjF8gtj_OVjo",
        "outputId": "59dd0fc2-4e5d-4f2d-a18c-d286dfde24e1"
      },
      "execution_count": 76,
      "outputs": [
        {
          "output_type": "execute_result",
          "data": {
            "text/plain": [
              "tensor([[-1.2933,  0.6479],\n",
              "        [ 0.3835, -1.0435],\n",
              "        [ 1.3187, -0.5203],\n",
              "        [-0.9606, -0.3084]], grad_fn=<EmbeddingBackward0>)"
            ]
          },
          "metadata": {},
          "execution_count": 76
        }
      ]
    },
    {
      "cell_type": "markdown",
      "source": [
        "## Project Query, Key, Value"
      ],
      "metadata": {
        "id": "w5oF0q3MPDDa"
      }
    },
    {
      "cell_type": "code",
      "source": [
        "ATTENTION_DIM: int = 3\n",
        "\n",
        "Q_W = torch.nn.Linear(EMBEDDING_DIM, ATTENTION_DIM)\n",
        "K_W = torch.nn.Linear(EMBEDDING_DIM, ATTENTION_DIM)\n",
        "V_W = torch.nn.Linear(EMBEDDING_DIM, ATTENTION_DIM)"
      ],
      "metadata": {
        "id": "0krzkljEO1xm"
      },
      "execution_count": 77,
      "outputs": []
    },
    {
      "cell_type": "code",
      "source": [
        "Q = Q_W(embd_text)\n",
        "K = K_W(embd_text)\n",
        "V = V_W(embd_text)"
      ],
      "metadata": {
        "id": "oj-jTVz5aj-L"
      },
      "execution_count": 79,
      "outputs": []
    },
    {
      "cell_type": "code",
      "source": [
        "Q"
      ],
      "metadata": {
        "colab": {
          "base_uri": "https://localhost:8080/"
        },
        "id": "EPaPlFhvbPC7",
        "outputId": "ef688f1f-42ac-491a-de69-1b1e10782ecb"
      },
      "execution_count": 81,
      "outputs": [
        {
          "output_type": "execute_result",
          "data": {
            "text/plain": [
              "tensor([[-0.2956, -0.7481,  0.7668],\n",
              "        [-0.4407, -0.3604, -0.3019],\n",
              "        [-0.2979, -0.3940, -0.5250],\n",
              "        [-0.4191, -0.5654,  0.3969]], grad_fn=<AddmmBackward0>)"
            ]
          },
          "metadata": {},
          "execution_count": 81
        }
      ]
    },
    {
      "cell_type": "code",
      "source": [
        "K"
      ],
      "metadata": {
        "colab": {
          "base_uri": "https://localhost:8080/"
        },
        "id": "wuNf99HNbSCo",
        "outputId": "e9b9d744-4265-48d6-8ff7-4c71ff6b4db8"
      },
      "execution_count": 82,
      "outputs": [
        {
          "output_type": "execute_result",
          "data": {
            "text/plain": [
              "tensor([[-0.0361,  0.0909, -0.6690],\n",
              "        [ 0.2678,  0.0417,  0.4907],\n",
              "        [ 1.0626,  0.7140,  0.2973],\n",
              "        [-0.2405, -0.2150, -0.0833]], grad_fn=<AddmmBackward0>)"
            ]
          },
          "metadata": {},
          "execution_count": 82
        }
      ]
    },
    {
      "cell_type": "code",
      "source": [
        "V"
      ],
      "metadata": {
        "colab": {
          "base_uri": "https://localhost:8080/"
        },
        "id": "qEut2BbRbSYv",
        "outputId": "4c017c08-2ea3-4449-c486-2917940e2ee9"
      },
      "execution_count": 105,
      "outputs": [
        {
          "output_type": "execute_result",
          "data": {
            "text/plain": [
              "tensor([[-0.3913,  0.5381, -1.5445],\n",
              "        [-1.0327, -0.1697, -0.0426],\n",
              "        [-0.9210, -0.1783,  0.2962],\n",
              "        [-0.7172,  0.2343, -1.0353]], grad_fn=<AddmmBackward0>)"
            ]
          },
          "metadata": {},
          "execution_count": 105
        }
      ]
    },
    {
      "cell_type": "markdown",
      "source": [
        "## Calculate Attention Score"
      ],
      "metadata": {
        "id": "GyLNw1-bbU56"
      }
    },
    {
      "cell_type": "code",
      "source": [
        "# Attention(Q, K, V) = softmax((Q*K^T) / root of dx) * V"
      ],
      "metadata": {
        "id": "9-Nan7EFbTlG"
      },
      "execution_count": 84,
      "outputs": []
    },
    {
      "cell_type": "code",
      "source": [
        "import numpy as np"
      ],
      "metadata": {
        "id": "Imm-R6nRcVNY"
      },
      "execution_count": 87,
      "outputs": []
    },
    {
      "cell_type": "code",
      "source": [
        "d_x = ATTENTION_DIM\n",
        "first_term = Q @ K.T / torch.sqrt(torch.tensor(d_x))\n",
        "first_term"
      ],
      "metadata": {
        "colab": {
          "base_uri": "https://localhost:8080/"
        },
        "id": "8FeapZgkcIFZ",
        "outputId": "6f807941-a5e1-4bc9-9107-d6fa868c7906"
      },
      "execution_count": 92,
      "outputs": [
        {
          "output_type": "execute_result",
          "data": {
            "text/plain": [
              "tensor([[-0.3293,  0.1535, -0.3581,  0.0970],\n",
              "        [ 0.1069, -0.1624, -0.4708,  0.1204],\n",
              "        [ 0.1883, -0.2043, -0.4353,  0.1155],\n",
              "        [-0.1742,  0.0340, -0.4221,  0.1093]], grad_fn=<DivBackward0>)"
            ]
          },
          "metadata": {},
          "execution_count": 92
        }
      ]
    },
    {
      "cell_type": "code",
      "source": [
        "prob_w = torch.softmax(first_term, dim=1)\n",
        "prob_w"
      ],
      "metadata": {
        "colab": {
          "base_uri": "https://localhost:8080/"
        },
        "id": "mnlnwa-4cmHi",
        "outputId": "48109342-3c7b-47d3-f044-fbfc4ac1229e"
      },
      "execution_count": 110,
      "outputs": [
        {
          "output_type": "execute_result",
          "data": {
            "text/plain": [
              "tensor([[0.1952, 0.3163, 0.1896, 0.2989],\n",
              "        [0.2995, 0.2288, 0.1681, 0.3036],\n",
              "        [0.3184, 0.2150, 0.1706, 0.2960],\n",
              "        [0.2304, 0.2838, 0.1798, 0.3060]], grad_fn=<SoftmaxBackward0>)"
            ]
          },
          "metadata": {},
          "execution_count": 110
        }
      ]
    },
    {
      "cell_type": "code",
      "source": [
        "result = prob_w @ V\n",
        "result  # final result always the same shape of V"
      ],
      "metadata": {
        "colab": {
          "base_uri": "https://localhost:8080/"
        },
        "id": "LySVwhfge7ZD",
        "outputId": "908e5dbb-8458-43f4-deeb-594d1164a54d"
      },
      "execution_count": 111,
      "outputs": [
        {
          "output_type": "execute_result",
          "data": {
            "text/plain": [
              "tensor([[-0.7920,  0.0876, -0.5682],\n",
              "        [-0.7260,  0.1635, -0.7368],\n",
              "        [-0.7160,  0.1737, -0.7567],\n",
              "        [-0.7683,  0.1154, -0.6315]], grad_fn=<MmBackward0>)"
            ]
          },
          "metadata": {},
          "execution_count": 111
        }
      ]
    },
    {
      "cell_type": "code",
      "source": [],
      "metadata": {
        "id": "6tCB_qHyfKE6"
      },
      "execution_count": 111,
      "outputs": []
    }
  ]
}