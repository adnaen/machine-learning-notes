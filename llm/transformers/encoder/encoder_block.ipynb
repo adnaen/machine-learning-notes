{
  "nbformat": 4,
  "nbformat_minor": 0,
  "metadata": {
    "colab": {
      "provenance": [],
      "authorship_tag": "ABX9TyPqGsG8vBfQ6NrKxn1SZSo/",
      "include_colab_link": true
    },
    "kernelspec": {
      "name": "python3",
      "display_name": "Python 3"
    },
    "language_info": {
      "name": "python"
    }
  },
  "cells": [
    {
      "cell_type": "markdown",
      "metadata": {
        "id": "view-in-github",
        "colab_type": "text"
      },
      "source": [
        "<a href=\"https://colab.research.google.com/github/adnaen/machine-learning-notes/blob/main/llm/transformers/encoder/encoder_block.ipynb\" target=\"_parent\"><img src=\"https://colab.research.google.com/assets/colab-badge.svg\" alt=\"Open In Colab\"/></a>"
      ]
    },
    {
      "cell_type": "markdown",
      "source": [
        "# **LET'S CREATE AN ENCODER FROM SCRATCH**"
      ],
      "metadata": {
        "id": "4UOprIrlQTzU"
      }
    },
    {
      "cell_type": "code",
      "execution_count": 21,
      "metadata": {
        "id": "h0uMCsiYM9cp"
      },
      "outputs": [],
      "source": [
        "import torch"
      ]
    },
    {
      "cell_type": "markdown",
      "source": [
        "## **POSITIONAL ENCODER**"
      ],
      "metadata": {
        "id": "Bp1WZTW4Qheq"
      }
    },
    {
      "cell_type": "code",
      "source": [
        "# TODO"
      ],
      "metadata": {
        "id": "dGZT9osXQssn"
      },
      "execution_count": 69,
      "outputs": []
    },
    {
      "cell_type": "markdown",
      "source": [
        "## **MULTI-HEAD ATTENTION NN**"
      ],
      "metadata": {
        "id": "fhspFdJ6QZVe"
      }
    },
    {
      "cell_type": "code",
      "source": [
        "class MultiHeadAttention(torch.nn.Module):\n",
        "    def __init__(\n",
        "            self,\n",
        "            d_model: int,\n",
        "            seq_len: int,\n",
        "            heads: int=9\n",
        "        ) -> None:\n",
        "        super().__init__()\n",
        "\n",
        "        self.q_w = torch.nn.Linear(d_model, d_model)\n",
        "        self.k_w = torch.nn.Linear(d_model, d_model)\n",
        "        self.v_w = torch.nn.Linear(d_model, d_model)\n",
        "\n",
        "        self.d_model = d_model\n",
        "        self.no_of_heads = heads\n",
        "        self.d_k = self.d_model // self.no_of_heads\n",
        "        self.seq_len = seq_len\n",
        "\n",
        "        print(\n",
        "            f\"INFO\\n No.Of Heads: {self.no_of_heads}\\n Model Dim(d_model) : {self.d_model}\\n DK: {self.d_k}\"\n",
        "        )\n",
        "\n",
        "    def forward(self, X: torch.Tensor) -> torch.Tensor:\n",
        "        q_val = self.q_w(X)\n",
        "        k_val = self.k_w(X)\n",
        "        v_val = self.v_w(X)\n",
        "\n",
        "        # split Q, K, V for multi-heads with shape (no_of_heads, seq_len, d_k)\n",
        "        q_split = q_val.view(self.no_of_heads, self.seq_len, self.d_k)\n",
        "        k_split = k_val.view(self.no_of_heads, self.seq_len, self.d_k)\n",
        "        v_split = v_val.view(self.no_of_heads, self.seq_len, self.d_k)\n",
        "\n",
        "        # calculate Attention score for each head\n",
        "        attention_score = []\n",
        "\n",
        "        for q, k, v in zip(q_split, k_split, v_split):\n",
        "            attention_score.append(\n",
        "                self._attention_calculation(q, k, v, self.d_k)\n",
        "                )\n",
        "\n",
        "        heads_result = torch.stack(\n",
        "            attention_score, dim=0\n",
        "            )  # convert the list to tensor\n",
        "\n",
        "        merged_result = (\n",
        "            heads_result.permute(1, 0, 2)\n",
        "            .reshape(self.seq_len, self.d_model)\n",
        "        )   # combine all heads output to single tensor --\n",
        "            #  shape (seq_len, d_model) / input_size\n",
        "\n",
        "        # THE RESULT IS NOTHING BUT,\n",
        "        # CONTEXTUAL EMBEDDING OF THE INPUT EMBEDDING.\n",
        "        # THIS HELP THE MODEL TO UNDERSTAND CONTEXTUAL MEANING OF WORDS.\n",
        "        # SO IT SHOULD BE THE SAME SHAPE.\n",
        "        return merged_result\n",
        "\n",
        "    def _attention_calculation(\n",
        "            self,\n",
        "            Q: torch.Tensor,\n",
        "            K: torch.Tensor,\n",
        "            V: torch.Tensor,\n",
        "            dk: int\n",
        "        ) -> torch.Tensor:\n",
        "        # Attention (Q, K, V) = softmax((Q . k^T / root of dk)) . V\n",
        "\n",
        "        softmax_out = torch.softmax((Q @ K.T) / torch.sqrt(torch.tensor(dk)), dim=1)\n",
        "        return softmax_out @ V"
      ],
      "metadata": {
        "id": "5Md-OuNuNA9-"
      },
      "execution_count": 62,
      "outputs": []
    },
    {
      "cell_type": "code",
      "source": [
        "ip_embedding = torch.randn((5,20))\n",
        "ip_embedding"
      ],
      "metadata": {
        "id": "Sb0SMNH3CtPF",
        "colab": {
          "base_uri": "https://localhost:8080/"
        },
        "outputId": "12b75066-4845-446d-adad-611010083cbc"
      },
      "execution_count": 63,
      "outputs": [
        {
          "output_type": "execute_result",
          "data": {
            "text/plain": [
              "tensor([[ 0.1557,  0.1457,  1.1797,  0.0227,  0.1882, -0.4213, -0.8316,  3.3527,\n",
              "          0.7365, -0.3173,  0.7133, -0.6473,  1.7734, -2.7667, -0.5315,  1.6694,\n",
              "         -0.3138, -0.1087, -0.2894, -1.8129],\n",
              "        [-1.3165,  0.0331,  0.7439, -1.3518,  0.9552, -1.7826, -0.1749,  0.3523,\n",
              "         -0.3660,  0.5370, -0.7630, -1.7973, -1.7436,  1.0824,  1.6633,  0.1598,\n",
              "          0.0099, -1.3341, -0.1542,  0.8692],\n",
              "        [ 0.4177, -1.3074,  1.4559,  0.7019,  1.1017,  0.8272,  0.4233, -0.6521,\n",
              "          0.1267, -0.1935, -0.5222,  0.0935,  0.3764,  0.7102, -0.2608, -0.3452,\n",
              "         -0.1504,  0.1802,  0.3866, -0.8744],\n",
              "        [-1.6731,  1.2850,  0.0205,  1.8303,  0.0707,  0.7198, -0.5310, -0.5819,\n",
              "          0.3390,  0.2329,  1.4084, -0.2606, -0.2410, -0.8269,  0.1043, -0.1089,\n",
              "          0.7794,  0.2922, -2.2894,  0.0086],\n",
              "        [ 0.1274,  1.6530,  0.6031,  1.0910, -0.8939,  0.6834,  0.3508, -1.9509,\n",
              "          0.1218, -0.5213,  0.2998,  1.2847, -0.3003,  0.1796, -0.5410, -1.6766,\n",
              "          0.7784, -1.0596,  0.2210, -0.8500]])"
            ]
          },
          "metadata": {},
          "execution_count": 63
        }
      ]
    },
    {
      "cell_type": "code",
      "source": [
        "model = MultiHeadAttention(d_model=20, heads=4, seq_len=5)"
      ],
      "metadata": {
        "id": "45i7ZiecuLnX",
        "colab": {
          "base_uri": "https://localhost:8080/"
        },
        "outputId": "c1ecce29-63b5-49b5-a7f2-48dd6909c3d5"
      },
      "execution_count": 64,
      "outputs": [
        {
          "output_type": "stream",
          "name": "stdout",
          "text": [
            "INFO\n",
            " No.Of Heads: 4\n",
            " Model Dim(d_model) : 20\n",
            " DK: 5\n"
          ]
        }
      ]
    },
    {
      "cell_type": "code",
      "source": [
        "res = model(ip_embedding)\n",
        "res"
      ],
      "metadata": {
        "id": "VIjDhnCsxQoo",
        "colab": {
          "base_uri": "https://localhost:8080/"
        },
        "outputId": "98c13d69-2e99-4acf-9076-9842dc870a06"
      },
      "execution_count": 67,
      "outputs": [
        {
          "output_type": "execute_result",
          "data": {
            "text/plain": [
              "tensor([[ 0.4258, -0.0375, -0.1155,  0.3464,  0.4537,  0.1527,  0.2004,  0.3676,\n",
              "         -0.1934, -0.7494,  0.1169, -0.2387, -0.0049,  0.0505, -0.1386,  0.2337,\n",
              "         -0.3314,  0.1832, -0.5774,  0.0385],\n",
              "        [ 0.3898, -0.0371, -0.1146,  0.3455,  0.5007,  0.1759,  0.2645,  0.1734,\n",
              "         -0.0868, -0.5134,  0.0742, -0.2502,  0.0102,  0.0213, -0.0571,  0.2139,\n",
              "         -0.2073,  0.3164, -0.6263, -0.0985],\n",
              "        [ 0.3092, -0.0635, -0.0811,  0.4539,  0.6176,  0.1076,  0.2691,  0.2388,\n",
              "         -0.1340, -0.5651,  0.1258, -0.1532,  0.0224, -0.0200, -0.0663,  0.2383,\n",
              "         -0.1465,  0.3350, -0.6699, -0.1644],\n",
              "        [ 0.3519,  0.0769, -0.1410,  0.1825,  0.3607,  0.1492,  0.2705,  0.1778,\n",
              "         -0.0808, -0.4741,  0.1418, -0.1836, -0.0034,  0.0046, -0.1354,  0.1612,\n",
              "         -0.3300,  0.2692, -0.5066, -0.0693],\n",
              "        [ 0.3561, -0.0961, -0.0865,  0.4727,  0.6272,  0.1777,  0.2421,  0.2201,\n",
              "         -0.0942, -0.5291,  0.1162, -0.1538,  0.0165, -0.0181, -0.0626,  0.1577,\n",
              "         -0.2491,  0.3441, -0.5417, -0.1494]], grad_fn=<UnsafeViewBackward0>)"
            ]
          },
          "metadata": {},
          "execution_count": 67
        }
      ]
    },
    {
      "cell_type": "code",
      "source": [
        "res.shape"
      ],
      "metadata": {
        "colab": {
          "base_uri": "https://localhost:8080/"
        },
        "id": "RrUt-ORrJplg",
        "outputId": "520f9277-61d0-4b69-8d24-033efd2ecf91"
      },
      "execution_count": 68,
      "outputs": [
        {
          "output_type": "execute_result",
          "data": {
            "text/plain": [
              "torch.Size([5, 20])"
            ]
          },
          "metadata": {},
          "execution_count": 68
        }
      ]
    },
    {
      "cell_type": "markdown",
      "source": [
        "## **Layer Norm**"
      ],
      "metadata": {
        "id": "_-FMLepOQw7S"
      }
    },
    {
      "cell_type": "code",
      "source": [
        "# TODO"
      ],
      "metadata": {
        "id": "XPMsxCrRQv4q"
      },
      "execution_count": 70,
      "outputs": []
    },
    {
      "cell_type": "markdown",
      "source": [
        "## **ADD / RESIDUAL**"
      ],
      "metadata": {
        "id": "XTwcsY0vQ0zn"
      }
    },
    {
      "cell_type": "code",
      "source": [
        "# TODO"
      ],
      "metadata": {
        "id": "pfr-08yCQ0OF"
      },
      "execution_count": 71,
      "outputs": []
    },
    {
      "cell_type": "markdown",
      "source": [
        "## **PASS THROUGH FFN LAYER (2 LAYER MLP)**"
      ],
      "metadata": {
        "id": "0lDv7U5dQ6Sg"
      }
    },
    {
      "cell_type": "code",
      "source": [],
      "metadata": {
        "id": "cLF4ZB5tQ5Ta"
      },
      "execution_count": null,
      "outputs": []
    }
  ]
}