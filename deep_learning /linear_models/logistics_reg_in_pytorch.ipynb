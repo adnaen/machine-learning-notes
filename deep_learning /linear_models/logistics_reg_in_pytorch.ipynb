{
  "nbformat": 4,
  "nbformat_minor": 0,
  "metadata": {
    "colab": {
      "provenance": [],
      "gpuType": "T4",
      "authorship_tag": "ABX9TyOVy48wZ6GehxgjuYgX4wl4",
      "include_colab_link": true
    },
    "kernelspec": {
      "name": "python3",
      "display_name": "Python 3"
    },
    "language_info": {
      "name": "python"
    },
    "accelerator": "GPU"
  },
  "cells": [
    {
      "cell_type": "markdown",
      "metadata": {
        "id": "view-in-github",
        "colab_type": "text"
      },
      "source": [
        "<a href=\"https://colab.research.google.com/github/adnaen/machine-learning-notes/blob/main/deep_learning%20/linear_models/logistics_reg_in_pytorch.ipynb\" target=\"_parent\"><img src=\"https://colab.research.google.com/assets/colab-badge.svg\" alt=\"Open In Colab\"/></a>"
      ]
    },
    {
      "cell_type": "markdown",
      "source": [
        "# **Logistic Regression Using PyTorch**"
      ],
      "metadata": {
        "id": "A9aAtjRF8490"
      }
    },
    {
      "cell_type": "code",
      "execution_count": 2,
      "metadata": {
        "id": "6omju21F8z1t"
      },
      "outputs": [],
      "source": [
        "import torch\n",
        "from torch import nn\n",
        "from torch import Tensor"
      ]
    },
    {
      "cell_type": "markdown",
      "source": [
        "## **Dummy Data**"
      ],
      "metadata": {
        "id": "39leGSXp1fcm"
      }
    },
    {
      "cell_type": "code",
      "source": [
        "from sklearn.datasets import make_classification\n",
        "from sklearn.model_selection import train_test_split\n",
        "\n",
        "x, y = make_classification(n_samples=1000, n_features=10)\n",
        "\n",
        "\n",
        "x = torch.tensor(x).float()\n",
        "y = torch.tensor(y).view(-1, 1).float()\n",
        "\n",
        "x_train, x_test, y_train, y_test = train_test_split(x, y, test_size=.2, shuffle=True, random_state=38947)\n",
        "\n",
        "print(\"Shape of data\")\n",
        "(x_train.shape, y_train.shape), (x_test.shape, y_test.shape)"
      ],
      "metadata": {
        "colab": {
          "base_uri": "https://localhost:8080/"
        },
        "id": "9mOTZtJV_x9R",
        "outputId": "cb2bbfbc-7c4b-42c4-c20d-1346c778ebd0"
      },
      "execution_count": 25,
      "outputs": [
        {
          "output_type": "stream",
          "name": "stdout",
          "text": [
            "Shape of data\n"
          ]
        },
        {
          "output_type": "execute_result",
          "data": {
            "text/plain": [
              "((torch.Size([800, 10]), torch.Size([800, 1])),\n",
              " (torch.Size([200, 10]), torch.Size([200, 1])))"
            ]
          },
          "metadata": {},
          "execution_count": 25
        }
      ]
    },
    {
      "cell_type": "markdown",
      "source": [
        "## **Model Architecture**"
      ],
      "metadata": {
        "id": "oWNV0PJs1jgN"
      }
    },
    {
      "cell_type": "code",
      "source": [
        "class LogisticRegression(nn.Module):\n",
        "\n",
        "    def __init__(self, ip_features: int, op_features: int) -> None:\n",
        "        super().__init__()\n",
        "        self.layer = nn.Linear(ip_features, op_features)\n",
        "        self.sigmoid = nn.Sigmoid()\n",
        "\n",
        "    def forward(self, x: Tensor) -> Tensor:\n",
        "        z = self.layer(x)\n",
        "        return self.sigmoid(z)"
      ],
      "metadata": {
        "id": "ysrz8BAM-Ngb"
      },
      "execution_count": 26,
      "outputs": []
    },
    {
      "cell_type": "markdown",
      "source": [
        "## **Model Training**"
      ],
      "metadata": {
        "id": "l9SVIK_A1naN"
      }
    },
    {
      "cell_type": "code",
      "source": [
        "model = LogisticRegression(10, 1)\n",
        "\n",
        "# training\n",
        "epochs: int = 1000\n",
        "criterion = nn.BCELoss()\n",
        "optimizer = torch.optim.Adam(model.parameters(), lr=0.01)\n",
        "\n",
        "model.train()\n",
        "for i in range(epochs+1):\n",
        "    y_pred = model(x_train)\n",
        "    loss = criterion(y_pred, y_train)\n",
        "    optimizer.zero_grad()\n",
        "    loss.backward()\n",
        "    optimizer.step()\n",
        "\n",
        "    if i % 100 == 0:\n",
        "        print(f\"Epoch : {i}, Loss: {loss.item()}\")"
      ],
      "metadata": {
        "id": "TdRwHVLx_GJs",
        "colab": {
          "base_uri": "https://localhost:8080/"
        },
        "outputId": "2b3e5cfa-9286-407d-f301-6a5294104eb9"
      },
      "execution_count": 27,
      "outputs": [
        {
          "output_type": "stream",
          "name": "stdout",
          "text": [
            "Epoch : 0, Loss: 0.7608519792556763\n",
            "Epoch : 100, Loss: 0.280906081199646\n",
            "Epoch : 200, Loss: 0.2316044270992279\n",
            "Epoch : 300, Loss: 0.21871834993362427\n",
            "Epoch : 400, Loss: 0.2143346071243286\n",
            "Epoch : 500, Loss: 0.2127160131931305\n",
            "Epoch : 600, Loss: 0.21211299300193787\n",
            "Epoch : 700, Loss: 0.21189537644386292\n",
            "Epoch : 800, Loss: 0.21182133257389069\n",
            "Epoch : 900, Loss: 0.21179799735546112\n",
            "Epoch : 1000, Loss: 0.21179130673408508\n"
          ]
        }
      ]
    },
    {
      "cell_type": "markdown",
      "source": [
        "## **Test Model**"
      ],
      "metadata": {
        "id": "AcmClZebuwbF"
      }
    },
    {
      "cell_type": "code",
      "source": [
        "model.eval()\n",
        "with torch.no_grad():\n",
        "    y_test_prob = model(x_test)\n",
        "\n",
        "bool_result = (y_test_prob >= .5).int()\n",
        "bool_result.T"
      ],
      "metadata": {
        "id": "6kNOkH3SBIUH",
        "colab": {
          "base_uri": "https://localhost:8080/"
        },
        "outputId": "a5bc0c0d-fff4-4bd1-bd73-05c17a40eeaa"
      },
      "execution_count": 28,
      "outputs": [
        {
          "output_type": "execute_result",
          "data": {
            "text/plain": [
              "tensor([[1, 1, 0, 1, 1, 1, 0, 1, 1, 0, 1, 0, 1, 1, 1, 0, 0, 1, 0, 0, 1, 1, 0, 1,\n",
              "         0, 1, 0, 0, 0, 0, 1, 1, 1, 1, 1, 0, 1, 0, 0, 1, 1, 0, 1, 1, 0, 1, 1, 1,\n",
              "         0, 1, 0, 0, 0, 1, 1, 1, 1, 0, 0, 0, 1, 1, 0, 1, 0, 0, 0, 0, 0, 0, 1, 0,\n",
              "         1, 0, 0, 0, 1, 1, 1, 1, 0, 1, 0, 1, 1, 1, 1, 1, 0, 1, 1, 1, 0, 0, 1, 0,\n",
              "         1, 0, 1, 0, 1, 0, 1, 1, 0, 1, 0, 0, 0, 1, 1, 0, 1, 0, 0, 0, 0, 1, 1, 1,\n",
              "         1, 1, 1, 0, 1, 0, 1, 0, 1, 0, 0, 1, 0, 0, 1, 1, 1, 1, 0, 0, 1, 1, 1, 0,\n",
              "         0, 0, 0, 1, 0, 1, 1, 0, 1, 0, 1, 0, 1, 1, 1, 1, 0, 1, 0, 0, 1, 1, 0, 1,\n",
              "         1, 1, 1, 0, 0, 0, 0, 1, 0, 1, 0, 1, 1, 0, 0, 0, 1, 0, 1, 1, 1, 1, 0, 0,\n",
              "         1, 1, 1, 1, 0, 0, 0, 1]], dtype=torch.int32)"
            ]
          },
          "metadata": {},
          "execution_count": 28
        }
      ]
    },
    {
      "cell_type": "code",
      "source": [
        "y_test.int().T"
      ],
      "metadata": {
        "colab": {
          "base_uri": "https://localhost:8080/"
        },
        "id": "r2VZeAZkC9UU",
        "outputId": "8174b69c-bfa5-4e78-e0dd-619205515b81"
      },
      "execution_count": 29,
      "outputs": [
        {
          "output_type": "execute_result",
          "data": {
            "text/plain": [
              "tensor([[0, 1, 0, 1, 1, 1, 0, 1, 1, 0, 0, 0, 1, 1, 1, 0, 0, 1, 0, 0, 1, 1, 0, 1,\n",
              "         0, 1, 0, 0, 0, 0, 1, 1, 1, 1, 0, 0, 1, 0, 0, 1, 1, 0, 1, 1, 0, 1, 1, 1,\n",
              "         0, 1, 0, 0, 0, 1, 1, 1, 1, 1, 0, 0, 1, 1, 0, 1, 0, 0, 0, 0, 0, 0, 1, 0,\n",
              "         1, 0, 0, 0, 1, 1, 1, 1, 0, 0, 0, 0, 1, 1, 1, 1, 0, 1, 1, 1, 0, 0, 1, 0,\n",
              "         1, 0, 0, 0, 1, 0, 1, 1, 0, 1, 1, 0, 1, 1, 1, 0, 1, 0, 0, 0, 0, 1, 1, 1,\n",
              "         1, 1, 1, 0, 1, 0, 1, 0, 1, 0, 0, 1, 0, 0, 0, 1, 1, 1, 0, 0, 1, 1, 1, 0,\n",
              "         0, 0, 0, 1, 0, 0, 1, 0, 1, 0, 1, 0, 1, 1, 1, 1, 0, 1, 0, 0, 1, 1, 0, 1,\n",
              "         1, 1, 1, 0, 0, 0, 0, 1, 0, 1, 0, 0, 1, 0, 0, 0, 1, 0, 1, 1, 1, 1, 0, 0,\n",
              "         0, 0, 1, 1, 0, 0, 0, 1]], dtype=torch.int32)"
            ]
          },
          "metadata": {},
          "execution_count": 29
        }
      ]
    },
    {
      "cell_type": "markdown",
      "source": [
        "## **Model Evaluation**"
      ],
      "metadata": {
        "id": "cn7SPLJgz6MM"
      }
    },
    {
      "cell_type": "code",
      "source": [
        "from sklearn.metrics import accuracy_score\n",
        "\n",
        "accuracy_score(y_test, bool_result)"
      ],
      "metadata": {
        "colab": {
          "base_uri": "https://localhost:8080/"
        },
        "id": "vDVyY-pjufOh",
        "outputId": "60513066-f534-4ea2-d043-a5d86118b888"
      },
      "execution_count": 30,
      "outputs": [
        {
          "output_type": "execute_result",
          "data": {
            "text/plain": [
              "0.93"
            ]
          },
          "metadata": {},
          "execution_count": 30
        }
      ]
    }
  ]
}