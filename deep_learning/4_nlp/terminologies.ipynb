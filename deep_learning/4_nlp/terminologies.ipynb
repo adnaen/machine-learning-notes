{
  "nbformat": 4,
  "nbformat_minor": 0,
  "metadata": {
    "colab": {
      "provenance": [],
      "authorship_tag": "ABX9TyM4FAy5e202wtsDHp/SioGZ",
      "include_colab_link": true
    },
    "kernelspec": {
      "name": "python3",
      "display_name": "Python 3"
    },
    "language_info": {
      "name": "python"
    }
  },
  "cells": [
    {
      "cell_type": "markdown",
      "metadata": {
        "id": "view-in-github",
        "colab_type": "text"
      },
      "source": [
        "<a href=\"https://colab.research.google.com/github/adnaen/machine-learning-notes/blob/main/deep_learning/4_nlp/terminologies.ipynb\" target=\"_parent\"><img src=\"https://colab.research.google.com/assets/colab-badge.svg\" alt=\"Open In Colab\"/></a>"
      ]
    },
    {
      "cell_type": "markdown",
      "source": [
        "# **Terminologies in NLP**"
      ],
      "metadata": {
        "id": "RgKGy96SKLsG"
      }
    },
    {
      "cell_type": "code",
      "source": [
        "import re\n",
        "import nltk\n",
        "\n",
        "test_text: str = \"I'm Walking through a lake, but i did'nt like it!\"\n",
        "test_text = test_text.lower()"
      ],
      "metadata": {
        "id": "-IBbC7_lLTpA"
      },
      "execution_count": 102,
      "outputs": []
    },
    {
      "cell_type": "markdown",
      "source": [
        "## **Tokenization**: splitting text into words.(unlike split word with spaces, it split spaces and special char)"
      ],
      "metadata": {
        "id": "bep-gOObKt6q"
      }
    },
    {
      "cell_type": "code",
      "execution_count": 103,
      "metadata": {
        "colab": {
          "base_uri": "https://localhost:8080/"
        },
        "id": "vRxvtvXJImED",
        "outputId": "2afb603d-0c95-485f-d992-e01001cc20c3"
      },
      "outputs": [
        {
          "output_type": "execute_result",
          "data": {
            "text/plain": [
              "[\"i'm\",\n",
              " 'walking',\n",
              " 'through',\n",
              " 'a',\n",
              " 'lake,',\n",
              " 'but',\n",
              " 'i',\n",
              " \"did'nt\",\n",
              " 'like',\n",
              " 'it!']"
            ]
          },
          "metadata": {},
          "execution_count": 103
        }
      ],
      "source": [
        "re.split(\"\\s\", test_text)"
      ]
    },
    {
      "cell_type": "code",
      "source": [
        "# with nltk\n",
        "words = nltk.word_tokenize(test_text)\n",
        "words"
      ],
      "metadata": {
        "id": "6scDhXkqRoQ_",
        "colab": {
          "base_uri": "https://localhost:8080/"
        },
        "outputId": "aafcc2d7-0304-46ab-83da-fb15190bcb1d"
      },
      "execution_count": 104,
      "outputs": [
        {
          "output_type": "execute_result",
          "data": {
            "text/plain": [
              "['i',\n",
              " \"'m\",\n",
              " 'walking',\n",
              " 'through',\n",
              " 'a',\n",
              " 'lake',\n",
              " ',',\n",
              " 'but',\n",
              " 'i',\n",
              " \"did'nt\",\n",
              " 'like',\n",
              " 'it',\n",
              " '!']"
            ]
          },
          "metadata": {},
          "execution_count": 104
        }
      ]
    },
    {
      "cell_type": "markdown",
      "source": [
        "## **Stemming** : reducing word to their root form (mostly it just cutout the postfix words such as 'ing' 'ed' 's' from the word)"
      ],
      "metadata": {
        "id": "CfQbKeAWMbXo"
      }
    },
    {
      "cell_type": "code",
      "source": [
        "# e.g.\n",
        "# running -> runn\n",
        "# Natural -> Natur"
      ],
      "metadata": {
        "id": "goN507V4LpVD"
      },
      "execution_count": 105,
      "outputs": []
    },
    {
      "cell_type": "code",
      "source": [
        "from nltk.stem import PorterStemmer\n",
        "\n",
        "ps = PorterStemmer()\n",
        "\" \".join([ps.stem(each) for each in words])  # stemmed text"
      ],
      "metadata": {
        "colab": {
          "base_uri": "https://localhost:8080/",
          "height": 35
        },
        "id": "BVnFMtufUGqH",
        "outputId": "a9dbd9ee-59ae-450b-8255-3730aa0af08e"
      },
      "execution_count": 106,
      "outputs": [
        {
          "output_type": "execute_result",
          "data": {
            "text/plain": [
              "\"i 'm walk through a lake , but i did'nt like it !\""
            ],
            "application/vnd.google.colaboratory.intrinsic+json": {
              "type": "string"
            }
          },
          "metadata": {},
          "execution_count": 106
        }
      ]
    },
    {
      "cell_type": "markdown",
      "source": [
        "## **Part Of Speech (POS)**: identify and classify word as noun, verbe .. and so on"
      ],
      "metadata": {
        "id": "yDy4dXOVBPXt"
      }
    },
    {
      "cell_type": "code",
      "source": [
        "from nltk.tag import pos_tag\n",
        "\n",
        "word_pos = pos_tag(words)\n",
        "word_pos"
      ],
      "metadata": {
        "id": "9ptiT0uRzzbx",
        "colab": {
          "base_uri": "https://localhost:8080/"
        },
        "outputId": "6485693e-402d-476e-dbf8-fc51ca2dc9b6"
      },
      "execution_count": 107,
      "outputs": [
        {
          "output_type": "execute_result",
          "data": {
            "text/plain": [
              "[('i', 'NN'),\n",
              " (\"'m\", 'VBP'),\n",
              " ('walking', 'VBG'),\n",
              " ('through', 'IN'),\n",
              " ('a', 'DT'),\n",
              " ('lake', 'NN'),\n",
              " (',', ','),\n",
              " ('but', 'CC'),\n",
              " ('i', 'JJ'),\n",
              " (\"did'nt\", 'VBP'),\n",
              " ('like', 'IN'),\n",
              " ('it', 'PRP'),\n",
              " ('!', '.')]"
            ]
          },
          "metadata": {},
          "execution_count": 107
        }
      ]
    },
    {
      "cell_type": "markdown",
      "source": [
        "## **Lemmatization**: covert word into their meaningfull form (it give more meaningfull and dictionary based word)"
      ],
      "metadata": {
        "id": "-uL6dDrRzlEs"
      }
    },
    {
      "cell_type": "markdown",
      "source": [
        "- **Before apply lemmatization its better perform pos_tag first, bcz the lemmatization need post tag of word to perform well.**\n",
        "- **only need to lemmatize 'NOUN', 'VERB', 'ADVERB', 'ADJECTIVE'**"
      ],
      "metadata": {
        "id": "xCBazWXDdvOH"
      }
    },
    {
      "cell_type": "code",
      "source": [
        "# e.g.\n",
        "# better -> good"
      ],
      "metadata": {
        "id": "t9En08bRzyPa"
      },
      "execution_count": 108,
      "outputs": []
    },
    {
      "cell_type": "code",
      "source": [
        "from nltk.corpus import wordnet\n",
        "\n",
        "pos_result = []\n",
        "for each in word_pos:\n",
        "    pt = each[1][0]\n",
        "    match pt:\n",
        "        case \"V\":\n",
        "            pos_result.append((each[0], wordnet.VERB))\n",
        "        case \"N\":\n",
        "            pos_result.append((each[0], wordnet.NOUN))\n",
        "        case \"J\":\n",
        "            pos_result.append((each[0], wordnet.ADJ))\n",
        "        case _:\n",
        "            pos_result.append((each[0],))\n",
        "\n",
        "\n",
        "pos_result"
      ],
      "metadata": {
        "colab": {
          "base_uri": "https://localhost:8080/"
        },
        "id": "zBW8aXnpWBwk",
        "outputId": "f30939c1-6234-4d43-c057-73ed39215306"
      },
      "execution_count": 109,
      "outputs": [
        {
          "output_type": "execute_result",
          "data": {
            "text/plain": [
              "[('i', 'n'),\n",
              " (\"'m\", 'v'),\n",
              " ('walking', 'v'),\n",
              " ('through',),\n",
              " ('a',),\n",
              " ('lake', 'n'),\n",
              " (',',),\n",
              " ('but',),\n",
              " ('i', 'a'),\n",
              " (\"did'nt\", 'v'),\n",
              " ('like',),\n",
              " ('it',),\n",
              " ('!',)]"
            ]
          },
          "metadata": {},
          "execution_count": 109
        }
      ]
    },
    {
      "cell_type": "code",
      "source": [
        "from nltk.stem import WordNetLemmatizer\n",
        "\n",
        "wl = WordNetLemmatizer()\n",
        "\" \".join([wl.lemmatize(each[0], pos=each[1] if len(each) >= 2 else \"n\") for each in pos_result])"
      ],
      "metadata": {
        "colab": {
          "base_uri": "https://localhost:8080/",
          "height": 35
        },
        "id": "fw85H-g1cAC2",
        "outputId": "efa2d058-1637-4d34-8d85-c9ede4db802c"
      },
      "execution_count": 111,
      "outputs": [
        {
          "output_type": "execute_result",
          "data": {
            "text/plain": [
              "\"i 'm walk through a lake , but i did'nt like it !\""
            ],
            "application/vnd.google.colaboratory.intrinsic+json": {
              "type": "string"
            }
          },
          "metadata": {},
          "execution_count": 111
        }
      ]
    },
    {
      "cell_type": "code",
      "source": [],
      "metadata": {
        "id": "zh8VgfIuZLp3"
      },
      "execution_count": 114,
      "outputs": []
    }
  ]
}