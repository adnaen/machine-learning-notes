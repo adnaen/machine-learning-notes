{
  "nbformat": 4,
  "nbformat_minor": 0,
  "metadata": {
    "colab": {
      "provenance": [],
      "authorship_tag": "ABX9TyNOeL973aJDo3YofN2VdAxl",
      "include_colab_link": true
    },
    "kernelspec": {
      "name": "python3",
      "display_name": "Python 3"
    },
    "language_info": {
      "name": "python"
    }
  },
  "cells": [
    {
      "cell_type": "markdown",
      "metadata": {
        "id": "view-in-github",
        "colab_type": "text"
      },
      "source": [
        "<a href=\"https://colab.research.google.com/github/adnaen/machine-learning-notes/blob/main/deep_learning/4_nlp/terminologies.ipynb\" target=\"_parent\"><img src=\"https://colab.research.google.com/assets/colab-badge.svg\" alt=\"Open In Colab\"/></a>"
      ]
    },
    {
      "cell_type": "markdown",
      "source": [
        "# **Terminologies in NLP**"
      ],
      "metadata": {
        "id": "RgKGy96SKLsG"
      }
    },
    {
      "cell_type": "code",
      "source": [
        "import re\n",
        "\n",
        "test_text: str = \"quaerat voluptatem. Ut enim ad minima veniam, quis nostrum exercitationem ullam corporis suscipit laboriosam, nisi ut aliquid ex ea commodi consequatur? Quis autem vel eum iure reprehenderit qui in ea voluptate velit esse quam nihil molestiae consequatur, vel illum qui dolorem eum fugiat quo voluptas nulla pariatur?\""
      ],
      "metadata": {
        "id": "-IBbC7_lLTpA"
      },
      "execution_count": 2,
      "outputs": []
    },
    {
      "cell_type": "markdown",
      "source": [
        "## **Tokenization**: splitting text into words."
      ],
      "metadata": {
        "id": "bep-gOObKt6q"
      }
    },
    {
      "cell_type": "code",
      "execution_count": 4,
      "metadata": {
        "colab": {
          "base_uri": "https://localhost:8080/"
        },
        "id": "vRxvtvXJImED",
        "outputId": "8356666f-02f3-4251-9584-f99abefc6efc"
      },
      "outputs": [
        {
          "output_type": "execute_result",
          "data": {
            "text/plain": [
              "['quaerat',\n",
              " 'voluptatem.',\n",
              " 'Ut',\n",
              " 'enim',\n",
              " 'ad',\n",
              " 'minima',\n",
              " 'veniam,',\n",
              " 'quis',\n",
              " 'nostrum',\n",
              " 'exercitationem',\n",
              " 'ullam',\n",
              " 'corporis',\n",
              " 'suscipit',\n",
              " 'laboriosam,',\n",
              " 'nisi',\n",
              " 'ut',\n",
              " 'aliquid',\n",
              " 'ex',\n",
              " 'ea',\n",
              " 'commodi',\n",
              " 'consequatur?',\n",
              " 'Quis',\n",
              " 'autem',\n",
              " 'vel',\n",
              " 'eum',\n",
              " 'iure',\n",
              " 'reprehenderit',\n",
              " 'qui',\n",
              " 'in',\n",
              " 'ea',\n",
              " 'voluptate',\n",
              " 'velit',\n",
              " 'esse',\n",
              " 'quam',\n",
              " 'nihil',\n",
              " 'molestiae',\n",
              " 'consequatur,',\n",
              " 'vel',\n",
              " 'illum',\n",
              " 'qui',\n",
              " 'dolorem',\n",
              " 'eum',\n",
              " 'fugiat',\n",
              " 'quo',\n",
              " 'voluptas',\n",
              " 'nulla',\n",
              " 'pariatur?']"
            ]
          },
          "metadata": {},
          "execution_count": 4
        }
      ],
      "source": [
        "re.split(\"\\s\", test_text)\n",
        "# or\n",
        "test_text.split()"
      ]
    },
    {
      "cell_type": "markdown",
      "source": [
        "## **Stemming** : reducing word to their root form"
      ],
      "metadata": {
        "id": "CfQbKeAWMbXo"
      }
    },
    {
      "cell_type": "code",
      "source": [
        "# e.g.\n",
        "# running -> run\n",
        "# walking -> walk"
      ],
      "metadata": {
        "id": "goN507V4LpVD"
      },
      "execution_count": null,
      "outputs": []
    }
  ]
}