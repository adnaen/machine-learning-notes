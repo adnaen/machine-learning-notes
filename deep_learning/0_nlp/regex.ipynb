{
  "nbformat": 4,
  "nbformat_minor": 0,
  "metadata": {
    "colab": {
      "provenance": [],
      "authorship_tag": "ABX9TyNNO9Hj+C0pl++zHuQiEJ16",
      "include_colab_link": true
    },
    "kernelspec": {
      "name": "python3",
      "display_name": "Python 3"
    },
    "language_info": {
      "name": "python"
    }
  },
  "cells": [
    {
      "cell_type": "markdown",
      "metadata": {
        "id": "view-in-github",
        "colab_type": "text"
      },
      "source": [
        "<a href=\"https://colab.research.google.com/github/adnaen/machine-learning-notes/blob/main/deep_learning/0_nlp/regex.ipynb\" target=\"_parent\"><img src=\"https://colab.research.google.com/assets/colab-badge.svg\" alt=\"Open In Colab\"/></a>"
      ]
    },
    {
      "cell_type": "markdown",
      "source": [
        "# **Regex(Regular Expression) for NLP**"
      ],
      "metadata": {
        "id": "avD9RdX7P0UU"
      }
    },
    {
      "cell_type": "code",
      "execution_count": 1,
      "metadata": {
        "id": "qTjGQXjfPCQW"
      },
      "outputs": [],
      "source": [
        "import re"
      ]
    },
    {
      "cell_type": "code",
      "source": [
        "TEXT: str = \"My Name is Muhammed Adnan C.P. I'm 20 years old. I'm Very Passionate about AI/ML.I would like building scalable Software's using Python and Rust.\""
      ],
      "metadata": {
        "id": "pb1KVF05UTGQ"
      },
      "execution_count": 27,
      "outputs": []
    },
    {
      "cell_type": "markdown",
      "source": [
        "1. **Find all Numerical Values**\n",
        "\n",
        "- `\\d+`\n",
        "- `+` for `one or more` occurence\n",
        "- `*` for `zero of more` occurence"
      ],
      "metadata": {
        "id": "Spv8z32mQY9l"
      }
    },
    {
      "cell_type": "code",
      "source": [
        "re.findall(r\"\\d+\", TEXT)"
      ],
      "metadata": {
        "colab": {
          "base_uri": "https://localhost:8080/"
        },
        "id": "cN9rjtgrP7_R",
        "outputId": "b749e357-919a-46e0-e16e-f2dceee28d26"
      },
      "execution_count": 37,
      "outputs": [
        {
          "output_type": "execute_result",
          "data": {
            "text/plain": [
              "['20']"
            ]
          },
          "metadata": {},
          "execution_count": 37
        }
      ]
    },
    {
      "cell_type": "markdown",
      "source": [
        "2. **Find all alphabets**\n",
        "\n",
        "- `[a-zA-Z]` for all lower case and upper case alphabets"
      ],
      "metadata": {
        "id": "APD9QDwqVVMb"
      }
    },
    {
      "cell_type": "code",
      "source": [
        "re.findall(r\"[a-zA-Z]+\", TEXT)"
      ],
      "metadata": {
        "colab": {
          "base_uri": "https://localhost:8080/"
        },
        "id": "kskXUx_DQFoQ",
        "outputId": "72204377-c1c8-4987-9e0e-c54750647fea"
      },
      "execution_count": 43,
      "outputs": [
        {
          "output_type": "execute_result",
          "data": {
            "text/plain": [
              "['My',\n",
              " 'Name',\n",
              " 'is',\n",
              " 'Muhammed',\n",
              " 'Adnan',\n",
              " 'C',\n",
              " 'P',\n",
              " 'I',\n",
              " 'm',\n",
              " 'years',\n",
              " 'old',\n",
              " 'I',\n",
              " 'm',\n",
              " 'Very',\n",
              " 'Passionate',\n",
              " 'about',\n",
              " 'AI',\n",
              " 'ML',\n",
              " 'I',\n",
              " 'would',\n",
              " 'like',\n",
              " 'building',\n",
              " 'scalable',\n",
              " 'Software',\n",
              " 's',\n",
              " 'using',\n",
              " 'Python',\n",
              " 'and',\n",
              " 'Rust']"
            ]
          },
          "metadata": {},
          "execution_count": 43
        }
      ]
    },
    {
      "cell_type": "markdown",
      "source": [
        "3. **Match Spaces**\n",
        "\n",
        "- `\\s`"
      ],
      "metadata": {
        "id": "KXTOEfucVxG4"
      }
    },
    {
      "cell_type": "code",
      "source": [
        "re.findall(r\"\\s+\", TEXT)"
      ],
      "metadata": {
        "colab": {
          "base_uri": "https://localhost:8080/"
        },
        "id": "MfewvV8NQ4uF",
        "outputId": "09e428a2-9c23-41d3-ce06-882a339e607b"
      },
      "execution_count": 49,
      "outputs": [
        {
          "output_type": "execute_result",
          "data": {
            "text/plain": [
              "[' ',\n",
              " ' ',\n",
              " ' ',\n",
              " ' ',\n",
              " ' ',\n",
              " ' ',\n",
              " ' ',\n",
              " ' ',\n",
              " ' ',\n",
              " ' ',\n",
              " ' ',\n",
              " ' ',\n",
              " ' ',\n",
              " ' ',\n",
              " ' ',\n",
              " ' ',\n",
              " ' ',\n",
              " ' ',\n",
              " ' ',\n",
              " ' ',\n",
              " ' ',\n",
              " ' ',\n",
              " ' ']"
            ]
          },
          "metadata": {},
          "execution_count": 49
        }
      ]
    },
    {
      "cell_type": "markdown",
      "source": [
        "4. **Macthes Alphanumeric characters**\n",
        "- `\\w`"
      ],
      "metadata": {
        "id": "ft0BIEQrXcco"
      }
    },
    {
      "cell_type": "code",
      "source": [
        "re.findall(r\"\\w+\", TEXT)"
      ],
      "metadata": {
        "colab": {
          "base_uri": "https://localhost:8080/"
        },
        "id": "MPmc4mfWWWg1",
        "outputId": "1929963a-e25f-42f0-e46d-bb798af97401"
      },
      "execution_count": 50,
      "outputs": [
        {
          "output_type": "execute_result",
          "data": {
            "text/plain": [
              "['My',\n",
              " 'Name',\n",
              " 'is',\n",
              " 'Muhammed',\n",
              " 'Adnan',\n",
              " 'C',\n",
              " 'P',\n",
              " 'I',\n",
              " 'm',\n",
              " '20',\n",
              " 'years',\n",
              " 'old',\n",
              " 'I',\n",
              " 'm',\n",
              " 'Very',\n",
              " 'Passionate',\n",
              " 'about',\n",
              " 'AI',\n",
              " 'ML',\n",
              " 'I',\n",
              " 'would',\n",
              " 'like',\n",
              " 'building',\n",
              " 'scalable',\n",
              " 'Software',\n",
              " 's',\n",
              " 'using',\n",
              " 'Python',\n",
              " 'and',\n",
              " 'Rust']"
            ]
          },
          "metadata": {},
          "execution_count": 50
        }
      ]
    },
    {
      "cell_type": "markdown",
      "source": [
        "## **How To**"
      ],
      "metadata": {
        "id": "Jf9-b_DhZdD_"
      }
    },
    {
      "cell_type": "code",
      "source": [
        "# split a sentence into word by word\n",
        "\n",
        "re.split(\"\\s\", TEXT)"
      ],
      "metadata": {
        "colab": {
          "base_uri": "https://localhost:8080/"
        },
        "id": "HtZ-EZrUXpKj",
        "outputId": "be6236b2-cc38-4cf6-e5c3-21bd5588c0a1"
      },
      "execution_count": 54,
      "outputs": [
        {
          "output_type": "execute_result",
          "data": {
            "text/plain": [
              "['My',\n",
              " 'Name',\n",
              " 'is',\n",
              " 'Muhammed',\n",
              " 'Adnan',\n",
              " 'C.P.',\n",
              " \"I'm\",\n",
              " '20',\n",
              " 'years',\n",
              " 'old.',\n",
              " \"I'm\",\n",
              " 'Very',\n",
              " 'Passionate',\n",
              " 'about',\n",
              " 'AI/ML.I',\n",
              " 'would',\n",
              " 'like',\n",
              " 'building',\n",
              " 'scalable',\n",
              " \"Software's\",\n",
              " 'using',\n",
              " 'Python',\n",
              " 'and',\n",
              " 'Rust.']"
            ]
          },
          "metadata": {},
          "execution_count": 54
        }
      ]
    },
    {
      "cell_type": "code",
      "source": [
        "# remove all numerical values from a string\n",
        "\n",
        "re.findall(\"[a-zA-z]+\", TEXT)"
      ],
      "metadata": {
        "colab": {
          "base_uri": "https://localhost:8080/"
        },
        "id": "_odxZoGZZnZ_",
        "outputId": "3bc02947-3c7a-464d-acd8-37dcbff5ce13"
      },
      "execution_count": 81,
      "outputs": [
        {
          "output_type": "execute_result",
          "data": {
            "text/plain": [
              "['My',\n",
              " 'Name',\n",
              " 'is',\n",
              " 'Muhammed',\n",
              " 'Adnan',\n",
              " 'C',\n",
              " 'P',\n",
              " 'I',\n",
              " 'm',\n",
              " 'years',\n",
              " 'old',\n",
              " 'I',\n",
              " 'm',\n",
              " 'Very',\n",
              " 'Passionate',\n",
              " 'about',\n",
              " 'AI',\n",
              " 'ML',\n",
              " 'I',\n",
              " 'would',\n",
              " 'like',\n",
              " 'building',\n",
              " 'scalable',\n",
              " 'Software',\n",
              " 's',\n",
              " 'using',\n",
              " 'Python',\n",
              " 'and',\n",
              " 'Rust']"
            ]
          },
          "metadata": {},
          "execution_count": 81
        }
      ]
    }
  ]
}