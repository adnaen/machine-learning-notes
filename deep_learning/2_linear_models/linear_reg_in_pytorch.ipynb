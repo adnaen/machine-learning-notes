{
  "nbformat": 4,
  "nbformat_minor": 0,
  "metadata": {
    "colab": {
      "provenance": [],
      "gpuType": "T4",
      "authorship_tag": "ABX9TyN4bQXAbCVAyJcAtaN+YgxU",
      "include_colab_link": true
    },
    "kernelspec": {
      "name": "python3",
      "display_name": "Python 3"
    },
    "language_info": {
      "name": "python"
    },
    "accelerator": "GPU"
  },
  "cells": [
    {
      "cell_type": "markdown",
      "metadata": {
        "id": "view-in-github",
        "colab_type": "text"
      },
      "source": [
        "<a href=\"https://colab.research.google.com/github/adnaen/machine-learning-notes/blob/main/deep_learning/linear_models/linear_reg_in_pytorch.ipynb\" target=\"_parent\"><img src=\"https://colab.research.google.com/assets/colab-badge.svg\" alt=\"Open In Colab\"/></a>"
      ]
    },
    {
      "cell_type": "markdown",
      "source": [
        "# **Linear Regression in PyTorch**"
      ],
      "metadata": {
        "id": "-aIMvUSVQUSa"
      }
    },
    {
      "cell_type": "code",
      "source": [
        "import torch\n",
        "from torch import nn\n",
        "from torch import Tensor"
      ],
      "metadata": {
        "id": "XfGyJmnNUgTH"
      },
      "execution_count": 1,
      "outputs": []
    },
    {
      "cell_type": "markdown",
      "source": [
        "## **Dummy Data**"
      ],
      "metadata": {
        "id": "bY9lnwGI25jf"
      }
    },
    {
      "cell_type": "code",
      "source": [
        "from sklearn.model_selection import train_test_split\n",
        "from sklearn.datasets import make_regression\n",
        "\n",
        "x, y = make_regression(n_samples=1000, n_features=10)\n",
        "x = torch.tensor(x).float()\n",
        "y = torch.tensor(y).float().view(-1, 1)\n",
        "\n",
        "x_train, x_test, y_train, y_test = train_test_split(x, y, shuffle=True, random_state=2382, test_size=.2)\n",
        "\n",
        "(x_train.shape, y_train.shape), (x_test.shape, y_test.shape)"
      ],
      "metadata": {
        "colab": {
          "base_uri": "https://localhost:8080/"
        },
        "id": "zdtzCIWc9Lf5",
        "outputId": "1e983a31-2b12-4642-825a-d58283bf44f2"
      },
      "execution_count": 2,
      "outputs": [
        {
          "output_type": "execute_result",
          "data": {
            "text/plain": [
              "((torch.Size([800, 10]), torch.Size([800, 1])),\n",
              " (torch.Size([200, 10]), torch.Size([200, 1])))"
            ]
          },
          "metadata": {},
          "execution_count": 2
        }
      ]
    },
    {
      "cell_type": "markdown",
      "source": [
        "## **Architecture**"
      ],
      "metadata": {
        "id": "P8mO0do94dHB"
      }
    },
    {
      "cell_type": "code",
      "source": [
        "class LinearRegression(nn.Module):\n",
        "    def __init__(self, ip_features: int) -> None:\n",
        "        super().__init__()\n",
        "        self.layer = nn.Linear(ip_features, 1)\n",
        "\n",
        "    def forward(self, x: Tensor) -> None:\n",
        "        return self.layer(x)"
      ],
      "metadata": {
        "id": "4-J_deiuUi7I"
      },
      "execution_count": 4,
      "outputs": []
    },
    {
      "cell_type": "markdown",
      "source": [
        "## **Training**"
      ],
      "metadata": {
        "id": "F1t-cIN24Zpu"
      }
    },
    {
      "cell_type": "code",
      "source": [
        "model = LinearRegression(ip_features=10)\n",
        "criterion = nn.MSELoss()\n",
        "optim = torch.optim.SGD(params=model.parameters(), lr=0.01)\n",
        "\n",
        "epoch = 500\n",
        "\n",
        "model.train()\n",
        "for i in range(epoch+1):\n",
        "    y_pred = model(x_train)\n",
        "    loss = criterion(y_pred, y_train)\n",
        "    optim.zero_grad()\n",
        "    loss.backward()\n",
        "    optim.step()\n",
        "\n",
        "    if i % 100 == 0:\n",
        "        print(f\"Epoch : {i}, Loss : {loss.item()}\")"
      ],
      "metadata": {
        "colab": {
          "base_uri": "https://localhost:8080/"
        },
        "id": "JEcRZdyx4XRL",
        "outputId": "3674d6e9-2df2-48bb-dabb-d79b820af928"
      },
      "execution_count": 13,
      "outputs": [
        {
          "output_type": "stream",
          "name": "stdout",
          "text": [
            "Epoch : 0, Loss : 24670.412109375\n",
            "Epoch : 100, Loss : 391.0643310546875\n",
            "Epoch : 200, Loss : 7.12706184387207\n",
            "Epoch : 300, Loss : 0.1500249058008194\n",
            "Epoch : 400, Loss : 0.003668123157694936\n",
            "Epoch : 500, Loss : 0.0001032523432513699\n"
          ]
        }
      ]
    },
    {
      "cell_type": "markdown",
      "source": [
        "## **Testing**"
      ],
      "metadata": {
        "id": "6DhapSFu5J2j"
      }
    },
    {
      "cell_type": "code",
      "source": [
        "model.eval()\n",
        "with torch.no_grad():\n",
        "    y_test_pred = model(x_test)\n",
        "loss = criterion(y_test_pred, y_test)\n",
        "print(f\"Loss : {loss.item()}\")"
      ],
      "metadata": {
        "colab": {
          "base_uri": "https://localhost:8080/"
        },
        "id": "_0EDB1tfznMB",
        "outputId": "5f51118a-2207-418a-fc12-47d5d97fbba1"
      },
      "execution_count": 16,
      "outputs": [
        {
          "output_type": "stream",
          "name": "stdout",
          "text": [
            "Loss : 0.00012042040907545015\n"
          ]
        }
      ]
    },
    {
      "cell_type": "code",
      "source": [],
      "metadata": {
        "id": "9b1obktW_V9a"
      },
      "execution_count": null,
      "outputs": []
    }
  ]
}