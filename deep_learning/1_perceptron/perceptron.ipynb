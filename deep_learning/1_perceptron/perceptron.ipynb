{
  "nbformat": 4,
  "nbformat_minor": 0,
  "metadata": {
    "colab": {
      "provenance": [],
      "authorship_tag": "ABX9TyOmYviZruww5PDoqgFMNBRl",
      "include_colab_link": true
    },
    "kernelspec": {
      "name": "python3",
      "display_name": "Python 3"
    },
    "language_info": {
      "name": "python"
    }
  },
  "cells": [
    {
      "cell_type": "markdown",
      "metadata": {
        "id": "view-in-github",
        "colab_type": "text"
      },
      "source": [
        "<a href=\"https://colab.research.google.com/github/adnaen/machine-learning-notes/blob/main/DEEP_LEARNING/perceptron.ipynb\" target=\"_parent\"><img src=\"https://colab.research.google.com/assets/colab-badge.svg\" alt=\"Open In Colab\"/></a>"
      ]
    },
    {
      "cell_type": "markdown",
      "source": [
        "# **Implement Perceptron from sractch with only using Numpy 🔥**"
      ],
      "metadata": {
        "id": "1Ca_szK_wYxP"
      }
    },
    {
      "cell_type": "markdown",
      "source": [
        "### **Perceptron Architechture**\n",
        "- Perceptron are the base building block in Neural Networks.\n",
        "- All other neurons are extended version of this.\n",
        "- **Inside of Perceptron**\n",
        "    - Calculate linear transformation (weighted sun) : y = wx+b\n",
        "    - Apply activation function (only step function) : z = 1 if z>=0 else 0\n",
        "    - Update weight only the prediction is diffrent with rule based (not gradient based)\n",
        "    - Because of the rule based param update, we use a single sample at a time to train\n",
        "    "
      ],
      "metadata": {
        "id": "n_jUNv6oww2E"
      }
    },
    {
      "cell_type": "code",
      "execution_count": 2,
      "metadata": {
        "id": "coGwyqMowSah"
      },
      "outputs": [],
      "source": [
        "import numpy as np"
      ]
    },
    {
      "cell_type": "code",
      "source": [
        "class Perceptron:\n",
        "    def __init__(self, lr: float = 0.001, epochs: int = 30) -> None:\n",
        "        self.lr = lr\n",
        "        self.epochs = epochs\n",
        "\n",
        "    @staticmethod\n",
        "    def activation(z: float) -> int:\n",
        "        \"\"\"\"\n",
        "        step function\n",
        "        \"\"\"\n",
        "        return 1 if z>= 0 else 0\n",
        "\n",
        "    def predict(self, x) -> int | list[int]:\n",
        "        summation = np.dot(x, self.weight) + self.bias\n",
        "        return [Perceptron.activation(each) for each in summation] if isinstance(summation, np.ndarray) else Perceptron.activation(summation)\n",
        "\n",
        "    def fit(self, x, y) -> None:\n",
        "        self.weight = np.zeros(x.shape[1])\n",
        "        self.bias  = 0.0\n",
        "\n",
        "        for i in range(self.epochs):\n",
        "            for xi, y_true in zip(x, y):\n",
        "                y_pred = self.predict(xi)\n",
        "                error = y_true - y_pred\n",
        "                self.weight += self.lr * error * xi\n",
        "                self.bias += self.lr * error"
      ],
      "metadata": {
        "id": "5FbR3MYZwuQ2"
      },
      "execution_count": 52,
      "outputs": []
    },
    {
      "cell_type": "code",
      "source": [
        "# train AND LOGIC GATE data\n",
        "x = np.array([[0, 0], [0, 1], [1, 0], [1, 1]])\n",
        "y = np.array([0, 0, 0, 1])"
      ],
      "metadata": {
        "id": "zD-EYBqq27a0"
      },
      "execution_count": 53,
      "outputs": []
    },
    {
      "cell_type": "code",
      "source": [
        "model = Perceptron()\n",
        "model.fit(x,y)\n",
        "\n",
        "# test train data\n",
        "model.predict(x)"
      ],
      "metadata": {
        "id": "Z_3JFmg43FxC",
        "colab": {
          "base_uri": "https://localhost:8080/"
        },
        "outputId": "cbfbe6f3-dae3-4c33-a08d-8068a536b0af"
      },
      "execution_count": 54,
      "outputs": [
        {
          "output_type": "execute_result",
          "data": {
            "text/plain": [
              "[0, 0, 0, 1]"
            ]
          },
          "metadata": {},
          "execution_count": 54
        }
      ]
    },
    {
      "cell_type": "code",
      "source": [
        "# test data\n",
        "test_x = np.array([[1, 1], [1, 0], [0, 0], [0, 1], [1, 1]])\n",
        "model.predict(test_x)"
      ],
      "metadata": {
        "colab": {
          "base_uri": "https://localhost:8080/"
        },
        "id": "cOyFaCDix5mu",
        "outputId": "fcc50c7b-81e3-469f-edce-4e67018eb7e5"
      },
      "execution_count": 55,
      "outputs": [
        {
          "output_type": "execute_result",
          "data": {
            "text/plain": [
              "[1, 0, 0, 0, 1]"
            ]
          },
          "metadata": {},
          "execution_count": 55
        }
      ]
    }
  ]
}