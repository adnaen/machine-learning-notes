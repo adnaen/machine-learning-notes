{
  "nbformat": 4,
  "nbformat_minor": 0,
  "metadata": {
    "colab": {
      "provenance": [],
      "authorship_tag": "ABX9TyPodw5TGrMkkFMjdZQKytxr",
      "include_colab_link": true
    },
    "kernelspec": {
      "name": "python3",
      "display_name": "Python 3"
    },
    "language_info": {
      "name": "python"
    }
  },
  "cells": [
    {
      "cell_type": "markdown",
      "metadata": {
        "id": "view-in-github",
        "colab_type": "text"
      },
      "source": [
        "<a href=\"https://colab.research.google.com/github/adnaen/machine-learning-notes/blob/main/deep_learning/fnn/iris_classification.ipynb\" target=\"_parent\"><img src=\"https://colab.research.google.com/assets/colab-badge.svg\" alt=\"Open In Colab\"/></a>"
      ]
    },
    {
      "cell_type": "markdown",
      "source": [
        "# **Iris Classifier in FNN**"
      ],
      "metadata": {
        "id": "988AUzV1G1lH"
      }
    },
    {
      "cell_type": "code",
      "source": [
        "import torch\n",
        "from torch import nn\n",
        "from torch import Tensor"
      ],
      "metadata": {
        "id": "ro8O29QnG1Cv"
      },
      "execution_count": 4,
      "outputs": []
    },
    {
      "cell_type": "markdown",
      "source": [
        "## **Data**"
      ],
      "metadata": {
        "id": "aEWrjGhXF6fA"
      }
    },
    {
      "cell_type": "code",
      "source": [
        "from sklearn.datasets import load_iris\n",
        "from sklearn.model_selection import train_test_split\n",
        "\n",
        "data = load_iris()\n",
        "x = data[\"data\"]\n",
        "y = data[\"target\"]\n",
        "\n",
        "x = torch.tensor(x).float()\n",
        "y = torch.tensor(y).long().view(-1)\n",
        "\n",
        "x_train, x_test, y_train, y_test = train_test_split(x, y, test_size=.2, random_state=2323, shuffle=True)\n",
        "\n",
        "print(f\"train set shape: {(x_train.shape, y_train.shape)}\\ntest set shape: {(x_test.shape, y_test.shape)}\")"
      ],
      "metadata": {
        "colab": {
          "base_uri": "https://localhost:8080/"
        },
        "id": "4cU_YexUGCIW",
        "outputId": "82fa189d-a17f-472e-9762-0fff5ab58dcf"
      },
      "execution_count": 24,
      "outputs": [
        {
          "output_type": "stream",
          "name": "stdout",
          "text": [
            "train set shape: (torch.Size([120, 4]), torch.Size([120]))\n",
            "test set shape: (torch.Size([30, 4]), torch.Size([30]))\n"
          ]
        }
      ]
    },
    {
      "cell_type": "markdown",
      "source": [
        "## **Neural Network Architecture**"
      ],
      "metadata": {
        "id": "noZoIhyXH1Rf"
      }
    },
    {
      "cell_type": "code",
      "source": [
        "class FNN(nn.Module):\n",
        "    def __init__(self, ip_size: int, h1_size: int, out_size: int) -> None:\n",
        "        super().__init__()\n",
        "        self.layer1 = nn.Linear(ip_size, h1_size)\n",
        "        self.layer2 = nn.Linear(h1_size, out_size)\n",
        "\n",
        "        self.relu = nn.ReLU()\n",
        "\n",
        "    def forward(self, x: Tensor) -> Tensor:\n",
        "        z1 = self.layer1(x)\n",
        "        a1 = self.relu(z1)\n",
        "        return self.layer2(a1)"
      ],
      "metadata": {
        "id": "LsBPZcCZGC-m"
      },
      "execution_count": 25,
      "outputs": []
    },
    {
      "cell_type": "markdown",
      "source": [
        "## **Training**"
      ],
      "metadata": {
        "id": "fASnjH60JR-C"
      }
    },
    {
      "cell_type": "code",
      "source": [
        "model = FNN(ip_size=4, h1_size=6, out_size=3)\n",
        "\n",
        "epochs = 500\n",
        "criterion = nn.CrossEntropyLoss()\n",
        "optim = torch.optim.Adam(model.parameters())\n",
        "\n",
        "model.train()\n",
        "for i in range(epochs+1):\n",
        "    y_pred = model(x_train)\n",
        "    loss = criterion(y_pred, y_train)\n",
        "\n",
        "    optim.zero_grad()\n",
        "    loss.backward()\n",
        "    optim.step()\n",
        "\n",
        "    if i % 100 == 0:\n",
        "        print(f\"Epoch : {i}, Loss : {loss.item()}\")\n"
      ],
      "metadata": {
        "colab": {
          "base_uri": "https://localhost:8080/"
        },
        "id": "pzOjX9x_JPAI",
        "outputId": "4a50846e-0817-4877-91df-c528a0753aef"
      },
      "execution_count": 51,
      "outputs": [
        {
          "output_type": "stream",
          "name": "stdout",
          "text": [
            "Epoch : 0, Loss : 1.3873822689056396\n",
            "Epoch : 100, Loss : 0.8648571372032166\n",
            "Epoch : 200, Loss : 0.6672961115837097\n",
            "Epoch : 300, Loss : 0.5419451594352722\n",
            "Epoch : 400, Loss : 0.4600270688533783\n",
            "Epoch : 500, Loss : 0.40121832489967346\n"
          ]
        }
      ]
    },
    {
      "cell_type": "markdown",
      "source": [
        "## **Testing**"
      ],
      "metadata": {
        "id": "fLLI1vkyKJNj"
      }
    },
    {
      "cell_type": "code",
      "source": [
        "model.eval()\n",
        "\n",
        "with torch.no_grad():\n",
        "    y_pred_test = model(x_test)\n",
        "\n",
        "y_pred_test_int = torch.argmax(y_pred_test, dim=1)"
      ],
      "metadata": {
        "id": "oOgH7TaeKK1d"
      },
      "execution_count": 52,
      "outputs": []
    },
    {
      "cell_type": "markdown",
      "source": [
        "## **Evaluation**"
      ],
      "metadata": {
        "id": "_RyiZtQDKacD"
      }
    },
    {
      "cell_type": "code",
      "source": [
        "from sklearn.metrics import accuracy_score\n",
        "acc_score = accuracy_score(y_test, y_pred_test_int)\n",
        "print(f\"Accuracy Score : {acc_score}\")"
      ],
      "metadata": {
        "colab": {
          "base_uri": "https://localhost:8080/"
        },
        "id": "6qNWd7NGKdhy",
        "outputId": "d3feb14a-b24e-4a35-c970-9ec7fea0133d"
      },
      "execution_count": 53,
      "outputs": [
        {
          "output_type": "stream",
          "name": "stdout",
          "text": [
            "Accuracy Score : 0.9666666666666667\n"
          ]
        }
      ]
    },
    {
      "cell_type": "code",
      "source": [],
      "metadata": {
        "id": "t3vui2Ko0HSi"
      },
      "execution_count": null,
      "outputs": []
    }
  ]
}