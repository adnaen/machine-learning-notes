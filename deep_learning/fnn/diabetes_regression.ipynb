{
  "nbformat": 4,
  "nbformat_minor": 0,
  "metadata": {
    "colab": {
      "provenance": [],
      "authorship_tag": "ABX9TyMiuXOkxQLrnxoNlZZik7Wt",
      "include_colab_link": true
    },
    "kernelspec": {
      "name": "python3",
      "display_name": "Python 3"
    },
    "language_info": {
      "name": "python"
    }
  },
  "cells": [
    {
      "cell_type": "markdown",
      "metadata": {
        "id": "view-in-github",
        "colab_type": "text"
      },
      "source": [
        "<a href=\"https://colab.research.google.com/github/adnaen/machine-learning-notes/blob/main/deep_learning/fnn/diabetes_regression.ipynb\" target=\"_parent\"><img src=\"https://colab.research.google.com/assets/colab-badge.svg\" alt=\"Open In Colab\"/></a>"
      ]
    },
    {
      "cell_type": "markdown",
      "source": [
        "# **Diabetes Regression in FNN**"
      ],
      "metadata": {
        "id": "IBPDvJNwXkLf"
      }
    },
    {
      "cell_type": "code",
      "source": [
        "import torch\n",
        "from torch import nn\n",
        "from torch import Tensor"
      ],
      "metadata": {
        "id": "u3BRFludXrKj"
      },
      "execution_count": 75,
      "outputs": []
    },
    {
      "cell_type": "markdown",
      "source": [
        "## **Data**"
      ],
      "metadata": {
        "id": "gLTaud75XCTb"
      }
    },
    {
      "cell_type": "code",
      "execution_count": 76,
      "metadata": {
        "colab": {
          "base_uri": "https://localhost:8080/"
        },
        "id": "-TlZfLFXXAY6",
        "outputId": "bec6d3bb-877e-43f5-b4e7-bea74e487eb3"
      },
      "outputs": [
        {
          "output_type": "stream",
          "name": "stdout",
          "text": [
            "Shape of train set : (torch.Size([353, 10]), torch.Size([353, 1]))\n",
            "Shape of test set : (torch.Size([89, 10]), torch.Size([89, 1]))\n"
          ]
        }
      ],
      "source": [
        "from sklearn.datasets import load_diabetes\n",
        "from sklearn.model_selection import train_test_split\n",
        "\n",
        "\n",
        "data = load_diabetes()\n",
        "x = torch.tensor(data[\"data\"], dtype=torch.float32)\n",
        "y = torch.tensor(data[\"target\"], dtype=torch.float32).view(-1, 1)\n",
        "\n",
        "x_train, x_test, y_train, y_test = train_test_split(x, y, test_size=0.2, shuffle=True, random_state=3478)\n",
        "\n",
        "print(f\"Shape of train set : {(x_train.shape, y_train.shape)}\\nShape of test set : {(x_test.shape, y_test.shape)}\")"
      ]
    },
    {
      "cell_type": "markdown",
      "source": [
        "## **Neural Nets Architecture**"
      ],
      "metadata": {
        "id": "tZrKe3GaYkbS"
      }
    },
    {
      "cell_type": "code",
      "source": [
        "class FeedForwardNeuralNet(nn.Module):\n",
        "    def __init__(self, ip_size: int, h1_size: int, h2_size: int, h3_size: int, out_size: int) -> None:\n",
        "        super().__init__()\n",
        "\n",
        "        self.layer1 = nn.Linear(ip_size, h1_size)\n",
        "        self.layer2 = nn.Linear(h1_size, h2_size)\n",
        "        self.layer3 = nn.Linear(h2_size, h3_size)\n",
        "        self.layer4 = nn.Linear(h3_size, out_size)\n",
        "\n",
        "        self.relu = nn.ReLU()\n",
        "\n",
        "    def forward(self, x: Tensor) -> Tensor:\n",
        "        z1 = self.layer1(x)\n",
        "        a1 = self.relu(z1)\n",
        "\n",
        "        z2 = self.layer2(a1)\n",
        "        a2 = self.relu(z2)\n",
        "\n",
        "        z3 = self.layer3(a2)\n",
        "        a3 = self.relu(z3)\n",
        "\n",
        "        return self.layer4(a3)"
      ],
      "metadata": {
        "id": "W4_W4avxY5JR"
      },
      "execution_count": 77,
      "outputs": []
    },
    {
      "cell_type": "markdown",
      "source": [
        "## **Training**"
      ],
      "metadata": {
        "id": "juInvMT1YkUA"
      }
    },
    {
      "cell_type": "code",
      "source": [
        "model = FeedForwardNeuralNet(ip_size=10, h1_size=15, h2_size=20, h3_size=25, out_size=1)\n",
        "\n",
        "epochs: int = 1000\n",
        "criterion = nn.MSELoss()\n",
        "optim = torch.optim.Adam(model.parameters())\n",
        "\n",
        "model.train()\n",
        "for i in range(epochs+1):\n",
        "    y_train_pred = model(x_train)\n",
        "    loss = criterion(y_train_pred, y_train)\n",
        "\n",
        "    optim.zero_grad()\n",
        "    loss.backward()\n",
        "    optim.step()\n",
        "\n",
        "    if i % 100 == 0:\n",
        "        print(f\"Epoch : {i}, Loss: {loss.item()}\")"
      ],
      "metadata": {
        "colab": {
          "base_uri": "https://localhost:8080/"
        },
        "id": "Sdz98PlWY4nY",
        "outputId": "eb97927f-dd65-4072-abdc-ec4870c1438b"
      },
      "execution_count": 78,
      "outputs": [
        {
          "output_type": "stream",
          "name": "stdout",
          "text": [
            "Epoch : 0, Loss: 29635.92578125\n",
            "Epoch : 100, Loss: 29269.283203125\n",
            "Epoch : 200, Loss: 24943.16796875\n",
            "Epoch : 300, Loss: 9418.4423828125\n",
            "Epoch : 400, Loss: 4159.4228515625\n",
            "Epoch : 500, Loss: 3908.7783203125\n",
            "Epoch : 600, Loss: 3715.63623046875\n",
            "Epoch : 700, Loss: 3557.1904296875\n",
            "Epoch : 800, Loss: 3425.82958984375\n",
            "Epoch : 900, Loss: 3318.379638671875\n",
            "Epoch : 1000, Loss: 3232.0\n"
          ]
        }
      ]
    },
    {
      "cell_type": "markdown",
      "source": [
        "## **Testing**"
      ],
      "metadata": {
        "id": "DuqvvaTQYkRO"
      }
    },
    {
      "cell_type": "code",
      "source": [
        "model.eval()\n",
        "\n",
        "with torch.no_grad():\n",
        "    y_pred = model(x_test)"
      ],
      "metadata": {
        "id": "i0lgQ4rVXRmx"
      },
      "execution_count": 79,
      "outputs": []
    },
    {
      "cell_type": "markdown",
      "source": [
        "## **Evaluating**"
      ],
      "metadata": {
        "id": "0hHKXsyPYkK6"
      }
    },
    {
      "cell_type": "code",
      "source": [
        "from sklearn.metrics import mean_squared_error\n",
        "\n",
        "mse = mean_squared_error(y_test, y_pred)\n",
        "print(f\"MSE : {mse}\")"
      ],
      "metadata": {
        "colab": {
          "base_uri": "https://localhost:8080/"
        },
        "id": "H2Mwe2jCzkfi",
        "outputId": "068bc2b8-763a-4867-ca6c-a230b9a2ab1c"
      },
      "execution_count": 81,
      "outputs": [
        {
          "output_type": "stream",
          "name": "stdout",
          "text": [
            "MSE : 2725.215996398565\n"
          ]
        }
      ]
    },
    {
      "cell_type": "markdown",
      "source": [
        "- **Traditional ML works better for tabular data, but this is just an implementation step to see how FNN handles it.**\n",
        "\n",
        "- **FNNs are rarely used alone; they are often combined with CNNs (for images) and RNNs (for sequences) to improve performance**"
      ],
      "metadata": {
        "id": "ilw3BBrA2AKI"
      }
    }
  ]
}