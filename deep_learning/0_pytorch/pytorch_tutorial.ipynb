{
  "nbformat": 4,
  "nbformat_minor": 0,
  "metadata": {
    "colab": {
      "provenance": [],
      "gpuType": "T4",
      "authorship_tag": "ABX9TyOuFVjlHMqkovsxloNXd7HW",
      "include_colab_link": true
    },
    "kernelspec": {
      "name": "python3",
      "display_name": "Python 3"
    },
    "language_info": {
      "name": "python"
    },
    "accelerator": "GPU"
  },
  "cells": [
    {
      "cell_type": "markdown",
      "metadata": {
        "id": "view-in-github",
        "colab_type": "text"
      },
      "source": [
        "<a href=\"https://colab.research.google.com/github/adnaen/machine-learning-notes/blob/main/deep_learning/0_pytorch/pytorch_tutorial.ipynb\" target=\"_parent\"><img src=\"https://colab.research.google.com/assets/colab-badge.svg\" alt=\"Open In Colab\"/></a>"
      ]
    },
    {
      "cell_type": "markdown",
      "source": [
        "# **PyTorch Tutorial To Get Started**"
      ],
      "metadata": {
        "id": "qnMveVplk862"
      }
    },
    {
      "cell_type": "code",
      "execution_count": 1,
      "metadata": {
        "id": "VJs44ca1e8ZB"
      },
      "outputs": [],
      "source": [
        "import torch"
      ]
    },
    {
      "cell_type": "code",
      "source": [
        "device = \"cuda\" if torch.cuda.is_available() else \"cpu\"\n",
        "device"
      ],
      "metadata": {
        "colab": {
          "base_uri": "https://localhost:8080/",
          "height": 35
        },
        "id": "unOZTDnEgo5m",
        "outputId": "b78a9459-3279-4491-875b-e7a2da81061b"
      },
      "execution_count": 2,
      "outputs": [
        {
          "output_type": "execute_result",
          "data": {
            "text/plain": [
              "'cuda'"
            ],
            "application/vnd.google.colaboratory.intrinsic+json": {
              "type": "string"
            }
          },
          "metadata": {},
          "execution_count": 2
        }
      ]
    },
    {
      "cell_type": "markdown",
      "source": [
        "**Tensors**\n",
        "```\n",
        "scaler = single value\n",
        "vector = 1-Dim tensor\n",
        "matrix = 2-Dim tensor\n",
        "tensor = N-Dim tensor\n",
        "```"
      ],
      "metadata": {
        "id": "LsHlDP9WlNQU"
      }
    },
    {
      "cell_type": "markdown",
      "source": [
        "create random (3,4) `tensor` and print its shape"
      ],
      "metadata": {
        "id": "ZlYuKq0yfSLh"
      }
    },
    {
      "cell_type": "code",
      "source": [
        "random_tensor = torch.rand((3,4), device=device)\n",
        "print(f\"Random Tensor: {random_tensor}\")\n",
        "print(f\"Tensor size: {random_tensor.shape}\")\n",
        "print(f\"Tensor Dimension : {random_tensor.ndim}\")"
      ],
      "metadata": {
        "colab": {
          "base_uri": "https://localhost:8080/"
        },
        "id": "wFMbDrV6fPNA",
        "outputId": "b2992b15-6b21-46a0-b843-21901df0ad5f"
      },
      "execution_count": 3,
      "outputs": [
        {
          "output_type": "stream",
          "name": "stdout",
          "text": [
            "Random Tensor: tensor([[0.0908, 0.7569, 0.7842, 0.8760],\n",
            "        [0.0895, 0.4326, 0.2259, 0.3905],\n",
            "        [0.9944, 0.0490, 0.2349, 0.1837]], device='cuda:0')\n",
            "Tensor size: torch.Size([3, 4])\n",
            "Tensor Dimension : 2\n"
          ]
        }
      ]
    },
    {
      "cell_type": "markdown",
      "source": [
        "create tensor with `ones` with shape (2,5), and convert it to Numpy Array"
      ],
      "metadata": {
        "id": "PoS0cOIwfoue"
      }
    },
    {
      "cell_type": "code",
      "source": [
        "ones_tensor = torch.ones((2,5), device=device)\n",
        "ones_tensor.cpu().numpy()"
      ],
      "metadata": {
        "colab": {
          "base_uri": "https://localhost:8080/"
        },
        "id": "AYRARj5bffeI",
        "outputId": "24a09fe9-0a0c-4fb0-cb25-acf025844d66"
      },
      "execution_count": 4,
      "outputs": [
        {
          "output_type": "execute_result",
          "data": {
            "text/plain": [
              "array([[1., 1., 1., 1., 1.],\n",
              "       [1., 1., 1., 1., 1.]], dtype=float32)"
            ]
          },
          "metadata": {},
          "execution_count": 4
        }
      ]
    },
    {
      "cell_type": "markdown",
      "source": [
        "perform `element wise addition` of two tensors of shape (4,4)"
      ],
      "metadata": {
        "id": "Ey2Uec3ggWBG"
      }
    },
    {
      "cell_type": "code",
      "source": [
        "a = torch.rand(4,4, device=device)\n",
        "b = torch.rand(4,4, device=device)\n",
        "print(f\"A : {a}\")\n",
        "print(f\"B : {b}\")\n",
        "\n",
        "sum_of_ab = a + b\n",
        "mul_of_ab = a * b\n",
        "\n",
        "print(f\"Sum of A and B : {sum_of_ab}\")\n",
        "print(f\"Multiply A with B : {mul_of_ab}\")"
      ],
      "metadata": {
        "colab": {
          "base_uri": "https://localhost:8080/"
        },
        "id": "FvM2LI5zf2EX",
        "outputId": "edd9038d-f7eb-4ddf-e85c-34b798a7a8e1"
      },
      "execution_count": 5,
      "outputs": [
        {
          "output_type": "stream",
          "name": "stdout",
          "text": [
            "A : tensor([[0.6856, 0.6964, 0.5898, 0.8699],\n",
            "        [0.9283, 0.1532, 0.4939, 0.9284],\n",
            "        [0.0513, 0.4674, 0.9029, 0.9379],\n",
            "        [0.4604, 0.7335, 0.6692, 0.2781]], device='cuda:0')\n",
            "B : tensor([[0.8028, 0.0624, 0.2449, 0.3780],\n",
            "        [0.3192, 0.4132, 0.3336, 0.2171],\n",
            "        [0.3328, 0.5272, 0.2627, 0.9491],\n",
            "        [0.5578, 0.9529, 0.6102, 0.8856]], device='cuda:0')\n",
            "Sum of A and B : tensor([[1.4884, 0.7588, 0.8347, 1.2479],\n",
            "        [1.2474, 0.5663, 0.8275, 1.1455],\n",
            "        [0.3841, 0.9947, 1.1656, 1.8869],\n",
            "        [1.0182, 1.6865, 1.2795, 1.1637]], device='cuda:0')\n",
            "Multiply A with B : tensor([[0.5504, 0.0435, 0.1444, 0.3288],\n",
            "        [0.2963, 0.0633, 0.1648, 0.2015],\n",
            "        [0.0171, 0.2464, 0.2372, 0.8901],\n",
            "        [0.2568, 0.6990, 0.4084, 0.2463]], device='cuda:0')\n"
          ]
        }
      ]
    },
    {
      "cell_type": "markdown",
      "source": [
        "create a tensor with values [2,6,8] and `reshape` it into a (2,2)"
      ],
      "metadata": {
        "id": "22auiOYlgxz3"
      }
    },
    {
      "cell_type": "code",
      "source": [
        "new_tensor = torch.tensor([2, 4, 6, 8])\n",
        "new_tensor.reshape([-1,2])"
      ],
      "metadata": {
        "colab": {
          "base_uri": "https://localhost:8080/"
        },
        "id": "0VNZ4v3MghiL",
        "outputId": "ebde6bec-510e-4c79-f7d3-98de0182e57d"
      },
      "execution_count": 6,
      "outputs": [
        {
          "output_type": "execute_result",
          "data": {
            "text/plain": [
              "tensor([[2, 4],\n",
              "        [6, 8]])"
            ]
          },
          "metadata": {},
          "execution_count": 6
        }
      ]
    },
    {
      "cell_type": "markdown",
      "source": [
        "`generate a tensor` of random integers between 0 and 10 wih shape (3,3)"
      ],
      "metadata": {
        "id": "GpLCmiMyhU7H"
      }
    },
    {
      "cell_type": "code",
      "source": [
        "torch.randint(low=0, high=10, size=(3,3), device=device)"
      ],
      "metadata": {
        "colab": {
          "base_uri": "https://localhost:8080/"
        },
        "id": "SCFi-HiKhHs1",
        "outputId": "70575419-95bd-4310-c41b-09aa461d5941"
      },
      "execution_count": 7,
      "outputs": [
        {
          "output_type": "execute_result",
          "data": {
            "text/plain": [
              "tensor([[4, 0, 9],\n",
              "        [0, 7, 0],\n",
              "        [6, 7, 1]], device='cuda:0')"
            ]
          },
          "metadata": {},
          "execution_count": 7
        }
      ]
    },
    {
      "cell_type": "markdown",
      "source": [
        "### **AutoGrad**\n",
        "- autograd automatically computes gradients for tensors involved in computation.\n",
        "- It tracks all operations on tensors that have requires_grad=True and builds a computational graph dynamically.\n",
        "- This enables backpropagation, where gradients are computed and stored for optimization."
      ],
      "metadata": {
        "id": "tuAB_MMgHXk9"
      }
    },
    {
      "cell_type": "code",
      "source": [
        "# define a autograd enabled tensor\n",
        "x = torch.tensor(2., requires_grad=True)\n",
        "y = torch.tensor(5., requires_grad=True)\n",
        "\n",
        "print(f\"x : {x}\")\n",
        "print(f\"y : {y}\")"
      ],
      "metadata": {
        "id": "sg1h6pkxNra0",
        "colab": {
          "base_uri": "https://localhost:8080/"
        },
        "outputId": "413a4cbd-fcd0-4562-f046-1445a01332b5"
      },
      "execution_count": 8,
      "outputs": [
        {
          "output_type": "stream",
          "name": "stdout",
          "text": [
            "x : 2.0\n",
            "y : 5.0\n"
          ]
        }
      ]
    },
    {
      "cell_type": "code",
      "source": [
        "result = x**2 + y**2\n",
        "print(f\"Result : {result}\")"
      ],
      "metadata": {
        "colab": {
          "base_uri": "https://localhost:8080/"
        },
        "id": "LnRTMiVAPP_Y",
        "outputId": "bf2000dd-9927-4c0f-d6e8-fe533236e8d5"
      },
      "execution_count": 9,
      "outputs": [
        {
          "output_type": "stream",
          "name": "stdout",
          "text": [
            "Result : 29.0\n"
          ]
        }
      ]
    },
    {
      "cell_type": "code",
      "source": [
        "# backpropgation\n",
        "result.backward()"
      ],
      "metadata": {
        "id": "MScQRb16PaYO"
      },
      "execution_count": 10,
      "outputs": []
    },
    {
      "cell_type": "code",
      "source": [
        "#find gradient\n",
        "x.grad"
      ],
      "metadata": {
        "colab": {
          "base_uri": "https://localhost:8080/"
        },
        "id": "fvMJ1nYYPdU6",
        "outputId": "dd0e4c37-cdbe-4a70-9536-319a25ac2dd4"
      },
      "execution_count": 11,
      "outputs": [
        {
          "output_type": "execute_result",
          "data": {
            "text/plain": [
              "tensor(4.)"
            ]
          },
          "metadata": {},
          "execution_count": 11
        }
      ]
    },
    {
      "cell_type": "code",
      "source": [
        "y.grad"
      ],
      "metadata": {
        "colab": {
          "base_uri": "https://localhost:8080/"
        },
        "id": "LHkrd9sdPefy",
        "outputId": "707c2b06-45a7-4251-8bab-3709acca4ba1"
      },
      "execution_count": 12,
      "outputs": [
        {
          "output_type": "execute_result",
          "data": {
            "text/plain": [
              "tensor(10.)"
            ]
          },
          "metadata": {},
          "execution_count": 12
        }
      ]
    },
    {
      "cell_type": "code",
      "source": [
        "# reset a autograd\n",
        "x.grad.zero_()"
      ],
      "metadata": {
        "colab": {
          "base_uri": "https://localhost:8080/"
        },
        "id": "NaaAr2t7gUD4",
        "outputId": "91a3c5fe-1fe5-4ab3-92e2-b5422867c147"
      },
      "execution_count": 13,
      "outputs": [
        {
          "output_type": "execute_result",
          "data": {
            "text/plain": [
              "tensor(0.)"
            ]
          },
          "metadata": {},
          "execution_count": 13
        }
      ]
    },
    {
      "cell_type": "code",
      "source": [
        "y.grad.zero_()"
      ],
      "metadata": {
        "colab": {
          "base_uri": "https://localhost:8080/"
        },
        "id": "7q1aCy-Ggc6q",
        "outputId": "8f7ea653-3d9a-465a-bd51-320f09f2c7f1"
      },
      "execution_count": 14,
      "outputs": [
        {
          "output_type": "execute_result",
          "data": {
            "text/plain": [
              "tensor(0.)"
            ]
          },
          "metadata": {},
          "execution_count": 14
        }
      ]
    },
    {
      "cell_type": "code",
      "source": [
        "# run without autograd for temporary\n",
        "with torch.no_grad():\n",
        "    y = x*2 # not tracked"
      ],
      "metadata": {
        "id": "Aw7Ld1gVgfc0"
      },
      "execution_count": 15,
      "outputs": []
    },
    {
      "cell_type": "code",
      "source": [
        "# detach autograd\n",
        "z = y.detach()"
      ],
      "metadata": {
        "id": "kHQsM44Ng0Uf"
      },
      "execution_count": 16,
      "outputs": []
    },
    {
      "cell_type": "code",
      "source": [
        "# check if a tensor enabled autograd by\n",
        "print(y.requires_grad)\n",
        "print(x.requires_grad)"
      ],
      "metadata": {
        "colab": {
          "base_uri": "https://localhost:8080/"
        },
        "id": "xdBWF7KBhARV",
        "outputId": "99aa454b-042e-4068-b845-430ee1a9867d"
      },
      "execution_count": 17,
      "outputs": [
        {
          "output_type": "stream",
          "name": "stdout",
          "text": [
            "False\n",
            "True\n"
          ]
        }
      ]
    },
    {
      "cell_type": "markdown",
      "source": [
        "## **Dataset, DataLoader, Batch Traning**\n",
        "\n",
        "- Implement Abstract Dataset class, with `__len__`, `__getitem__` methods."
      ],
      "metadata": {
        "id": "hiyC3U8df2Xe"
      }
    },
    {
      "cell_type": "code",
      "source": [
        "from torch.utils.data import Dataset, DataLoader"
      ],
      "metadata": {
        "id": "ybInt-GWgLlo"
      },
      "execution_count": 18,
      "outputs": []
    },
    {
      "cell_type": "code",
      "source": [
        "class CustomeAgeDataset(Dataset):\n",
        "    def __init__(self, x: torch.Tensor, y: torch.Tensor) -> None:\n",
        "        self.x = x\n",
        "        self.y = y\n",
        "\n",
        "    def __len__(self) -> int:\n",
        "        return len(self.x)\n",
        "\n",
        "    def __getitem__(self, idx: int) -> tuple:\n",
        "        return (self.x[idx], self.y[idx])"
      ],
      "metadata": {
        "id": "AtKhEdD8gVQO"
      },
      "execution_count": 19,
      "outputs": []
    },
    {
      "cell_type": "code",
      "source": [
        "# demo data\n",
        "\n",
        "x = torch.randn(200)\n",
        "y = torch.randint(0, 2, (200,))"
      ],
      "metadata": {
        "id": "Y_7Mo_8hiebb"
      },
      "execution_count": 20,
      "outputs": []
    },
    {
      "cell_type": "code",
      "source": [
        "dataset = CustomeAgeDataset(x=x, y=y)\n",
        "\n",
        "dataloader = DataLoader(dataset=dataset, batch_size=40, shuffle=True)"
      ],
      "metadata": {
        "id": "Q-LcRFkEi_rL"
      },
      "execution_count": 21,
      "outputs": []
    },
    {
      "cell_type": "code",
      "source": [
        "count = 0\n",
        "for batch_x, batch_y in dataloader:\n",
        "    print(f\"Batch {count}\")\n",
        "    print(batch_x)\n",
        "    print(batch_y)\n",
        "    count += 1"
      ],
      "metadata": {
        "colab": {
          "base_uri": "https://localhost:8080/"
        },
        "id": "p80rmlYMmXDe",
        "outputId": "45c7eaa9-02ac-41b4-df81-792088cb86dc"
      },
      "execution_count": 22,
      "outputs": [
        {
          "output_type": "stream",
          "name": "stdout",
          "text": [
            "Batch 0\n",
            "tensor([ 0.5892,  0.1758, -0.3047,  0.3475, -0.2410,  0.8803, -0.3396, -0.1858,\n",
            "        -0.5859,  0.6469,  0.2936,  0.3907, -0.1525,  0.7540,  0.4148,  0.3767,\n",
            "         1.2483,  0.5344, -0.9504,  1.7786,  0.9964, -0.4244,  0.9861,  1.6197,\n",
            "         0.7428, -1.0360,  1.6623, -1.4740,  1.6818, -2.1895,  0.6630,  0.5016,\n",
            "         0.0804,  0.3926, -1.2677, -0.8104, -0.1332,  1.6173, -0.7722, -0.0493])\n",
            "tensor([1, 1, 1, 1, 1, 0, 0, 1, 1, 1, 0, 0, 0, 0, 1, 1, 1, 1, 1, 0, 1, 0, 0, 0,\n",
            "        0, 0, 0, 1, 0, 1, 0, 0, 1, 0, 0, 1, 1, 0, 0, 1])\n",
            "Batch 1\n",
            "tensor([ 0.2817, -1.6291,  0.8956, -0.6326,  0.3131, -0.2274,  1.7784,  0.3303,\n",
            "        -1.1324,  1.7283, -1.0814,  1.0537,  0.5527,  1.9825, -0.7289,  0.1293,\n",
            "        -1.7659,  0.4626,  0.2874,  0.9505,  0.2121,  0.4342,  0.0114, -0.5615,\n",
            "        -0.5516,  0.0781, -1.0935,  0.4623, -0.6161, -0.4817, -1.8763, -1.2786,\n",
            "         0.4124,  0.5139,  1.5719, -1.6545, -0.4826, -0.2498,  0.7355,  0.3633])\n",
            "tensor([0, 1, 1, 1, 1, 1, 0, 1, 1, 1, 0, 0, 1, 1, 1, 1, 1, 1, 0, 1, 1, 0, 0, 1,\n",
            "        0, 1, 0, 1, 0, 0, 1, 1, 0, 0, 0, 1, 0, 0, 1, 1])\n",
            "Batch 2\n",
            "tensor([-1.6986,  0.1399, -0.2864, -0.0075, -0.2866,  0.3150,  0.8561, -0.2299,\n",
            "        -0.9572,  0.4272,  0.3073, -0.4424,  0.4991,  0.6157, -0.4636,  0.0995,\n",
            "        -2.2084, -1.2869,  0.2745,  0.8714,  0.5302, -0.4727,  0.7845, -0.4017,\n",
            "        -0.9137,  0.1823,  1.4474, -1.2655,  1.3004, -0.7069, -0.5363, -0.3778,\n",
            "         0.2597,  2.0430, -2.4288, -0.9027,  0.5922, -1.3690, -0.5103, -0.2625])\n",
            "tensor([0, 1, 0, 0, 0, 0, 1, 0, 0, 0, 1, 0, 0, 0, 1, 0, 0, 0, 1, 1, 0, 1, 1, 0,\n",
            "        1, 1, 1, 0, 1, 1, 1, 0, 1, 1, 0, 1, 1, 0, 1, 0])\n",
            "Batch 3\n",
            "tensor([ 0.0650, -0.3397, -0.5149, -1.0902, -0.7681,  0.2064, -0.3191,  0.7869,\n",
            "        -0.0845,  2.0416,  0.7080,  1.1077, -0.2241,  0.0449, -1.0632, -0.2499,\n",
            "        -0.2971, -1.1964,  0.6647, -1.8268, -0.6092, -0.9259, -0.3075, -0.3066,\n",
            "        -1.8944, -0.8458,  0.7130, -0.2923, -0.5242,  1.3029, -0.0323,  0.3121,\n",
            "         1.6772,  0.0786,  0.7091, -0.1081, -1.6285,  0.1864, -0.1103,  0.4002])\n",
            "tensor([0, 1, 0, 0, 1, 1, 0, 1, 0, 0, 0, 0, 0, 1, 1, 1, 0, 0, 0, 0, 0, 0, 1, 1,\n",
            "        0, 1, 0, 1, 0, 0, 1, 0, 0, 1, 0, 1, 1, 1, 1, 0])\n",
            "Batch 4\n",
            "tensor([ 0.3252,  0.0969, -0.1064, -1.3589,  0.9252, -1.4776, -1.4980,  1.3184,\n",
            "         0.2394,  0.8241,  0.4515, -0.8695,  0.1760,  0.0405,  0.0084, -0.1126,\n",
            "        -1.3650,  0.6165, -1.6817, -0.0558, -1.3148, -0.7402, -1.7241,  0.2274,\n",
            "        -0.1971, -1.4560,  0.5208, -0.1932,  0.9449,  1.1594, -0.3166, -0.4396,\n",
            "        -1.1426,  1.1290,  1.9294,  0.2828,  0.2265,  0.2438,  1.5986,  1.2041])\n",
            "tensor([0, 1, 0, 1, 0, 1, 1, 1, 0, 1, 0, 1, 0, 1, 1, 0, 1, 1, 1, 0, 1, 0, 0, 1,\n",
            "        1, 1, 1, 1, 0, 1, 0, 0, 0, 0, 1, 1, 0, 1, 1, 1])\n"
          ]
        }
      ]
    },
    {
      "cell_type": "markdown",
      "source": [
        "- while traninig deep learning model, we using batched training.\n",
        "- this comes under the epoch loop,\n",
        "\n",
        "**In Simply**\n",
        "- 1 epoch means the model traverse on entire dataset,\n",
        "- Batch means split out dataset into chunks. 1 epoch complte the model go through all batches"
      ],
      "metadata": {
        "id": "BbGJlcXhnk3b"
      }
    },
    {
      "cell_type": "markdown",
      "source": [
        "### **Save Model Parameters, Checkpoint**"
      ],
      "metadata": {
        "id": "Kg4ZYfDkyngT"
      }
    },
    {
      "cell_type": "code",
      "source": [
        "# just create a dummy FNN model\n",
        "\n",
        "model = torch.nn.Sequential(\n",
        "    torch.nn.Linear(2, 20),\n",
        "    torch.nn.ReLU(),\n",
        "    torch.nn.Linear(20, 1)\n",
        ")"
      ],
      "metadata": {
        "id": "W5fVM21tynPt"
      },
      "execution_count": 2,
      "outputs": []
    },
    {
      "cell_type": "code",
      "source": [
        "# AND gate data\n",
        "x = torch.tensor([[0, 0], [0, 1], [1, 0], [1, 1]]).float()\n",
        "y = torch.tensor([0, 0, 0, 1])"
      ],
      "metadata": {
        "id": "7UcI-jky3KM3"
      },
      "execution_count": null,
      "outputs": []
    },
    {
      "cell_type": "code",
      "source": [
        "criterion = torch.nn.BCEWithLogitsLoss()\n",
        "optim = torch.optim.Adam(model.parameters(), lr=0.001)"
      ],
      "metadata": {
        "id": "Rf83tfFF1brJ"
      },
      "execution_count": 52,
      "outputs": []
    },
    {
      "cell_type": "code",
      "source": [
        "model.train()\n",
        "for i in range(201):\n",
        "    logits = model(x)\n",
        "    loss = criterion(logits, y.reshape(-1, 1).float())\n",
        "    optim.zero_grad()\n",
        "    loss.backward()\n",
        "    optim.step()\n",
        "\n",
        "    if i % 20 == 0:\n",
        "        print(f\"Epoch: {i}, Loss: {loss.item()}\")"
      ],
      "metadata": {
        "colab": {
          "base_uri": "https://localhost:8080/"
        },
        "id": "Au5aTgUA1MLl",
        "outputId": "50dbb6c7-bf7b-43aa-e5e2-986da4316009"
      },
      "execution_count": 56,
      "outputs": [
        {
          "output_type": "stream",
          "name": "stdout",
          "text": [
            "Epoch: 0, Loss: 0.5704057216644287\n",
            "Epoch: 20, Loss: 0.5459808707237244\n",
            "Epoch: 40, Loss: 0.5219535827636719\n",
            "Epoch: 60, Loss: 0.49821385741233826\n",
            "Epoch: 80, Loss: 0.47437456250190735\n",
            "Epoch: 100, Loss: 0.45078474283218384\n",
            "Epoch: 120, Loss: 0.42768943309783936\n",
            "Epoch: 140, Loss: 0.4048890471458435\n",
            "Epoch: 160, Loss: 0.38244926929473877\n",
            "Epoch: 180, Loss: 0.36050403118133545\n",
            "Epoch: 200, Loss: 0.3391232192516327\n"
          ]
        }
      ]
    },
    {
      "cell_type": "code",
      "source": [
        "torch.save(model.state_dict(), \"./hello.pt\")"
      ],
      "metadata": {
        "id": "6rNLkaHOz6Rc"
      },
      "execution_count": 58,
      "outputs": []
    },
    {
      "cell_type": "code",
      "source": [],
      "metadata": {
        "id": "dUpce1Zg3-GT"
      },
      "execution_count": null,
      "outputs": []
    }
  ]
}