{
  "nbformat": 4,
  "nbformat_minor": 0,
  "metadata": {
    "colab": {
      "provenance": [],
      "gpuType": "T4",
      "authorship_tag": "ABX9TyPoyouKq+u+T7XxRSkhDyZC",
      "include_colab_link": true
    },
    "kernelspec": {
      "name": "python3",
      "display_name": "Python 3"
    },
    "language_info": {
      "name": "python"
    },
    "accelerator": "GPU"
  },
  "cells": [
    {
      "cell_type": "markdown",
      "metadata": {
        "id": "view-in-github",
        "colab_type": "text"
      },
      "source": [
        "<a href=\"https://colab.research.google.com/github/adnaen/machine-learning-notes/blob/main/deep_learning/0_pytorch/start_with_pytorch.ipynb\" target=\"_parent\"><img src=\"https://colab.research.google.com/assets/colab-badge.svg\" alt=\"Open In Colab\"/></a>"
      ]
    },
    {
      "cell_type": "markdown",
      "source": [
        "# **PyTorch Tutorial To Get Started**"
      ],
      "metadata": {
        "id": "qnMveVplk862"
      }
    },
    {
      "cell_type": "code",
      "execution_count": 1,
      "metadata": {
        "id": "VJs44ca1e8ZB"
      },
      "outputs": [],
      "source": [
        "import torch"
      ]
    },
    {
      "cell_type": "code",
      "source": [
        "device = \"cuda\" if torch.cuda.is_available() else \"cpu\"\n",
        "device"
      ],
      "metadata": {
        "colab": {
          "base_uri": "https://localhost:8080/",
          "height": 35
        },
        "id": "unOZTDnEgo5m",
        "outputId": "58794a6e-9901-472e-ecd3-34677ee99a26"
      },
      "execution_count": 2,
      "outputs": [
        {
          "output_type": "execute_result",
          "data": {
            "text/plain": [
              "'cuda'"
            ],
            "application/vnd.google.colaboratory.intrinsic+json": {
              "type": "string"
            }
          },
          "metadata": {},
          "execution_count": 2
        }
      ]
    },
    {
      "cell_type": "markdown",
      "source": [
        "**Tensors**\n",
        "```\n",
        "scaler = single value\n",
        "vector = 1-Dim tensor\n",
        "matrix = 2-Dim tensor\n",
        "tensor = N-Dim tensor\n",
        "```"
      ],
      "metadata": {
        "id": "LsHlDP9WlNQU"
      }
    },
    {
      "cell_type": "markdown",
      "source": [
        "create random (3,4) `tensor` and print its shape"
      ],
      "metadata": {
        "id": "ZlYuKq0yfSLh"
      }
    },
    {
      "cell_type": "code",
      "source": [
        "random_tensor = torch.rand((3,4), device=device)\n",
        "print(f\"Random Tensor: {random_tensor}\")\n",
        "print(f\"Tensor size: {random_tensor.shape}\")\n",
        "print(f\"Tensor Dimension : {random_tensor.ndim}\")"
      ],
      "metadata": {
        "colab": {
          "base_uri": "https://localhost:8080/"
        },
        "id": "wFMbDrV6fPNA",
        "outputId": "d0c3af5d-1ee6-456d-eaa0-e5f0dad2e1f9"
      },
      "execution_count": 3,
      "outputs": [
        {
          "output_type": "stream",
          "name": "stdout",
          "text": [
            "Random Tensor: tensor([[0.3000, 0.5918, 0.0205, 0.7790],\n",
            "        [0.1688, 0.5744, 0.0118, 0.1903],\n",
            "        [0.7728, 0.5215, 0.4036, 0.2715]], device='cuda:0')\n",
            "Tensor size: torch.Size([3, 4])\n",
            "Tensor Dimension : 2\n"
          ]
        }
      ]
    },
    {
      "cell_type": "markdown",
      "source": [
        "create tensor with `ones` with shape (2,5), and convert it to Numpy Array"
      ],
      "metadata": {
        "id": "PoS0cOIwfoue"
      }
    },
    {
      "cell_type": "code",
      "source": [
        "ones_tensor = torch.ones((2,5), device=device)\n",
        "ones_tensor.cpu().numpy()"
      ],
      "metadata": {
        "colab": {
          "base_uri": "https://localhost:8080/"
        },
        "id": "AYRARj5bffeI",
        "outputId": "8e6b96d3-7a33-40f5-994a-8e64ec412081"
      },
      "execution_count": 4,
      "outputs": [
        {
          "output_type": "execute_result",
          "data": {
            "text/plain": [
              "array([[1., 1., 1., 1., 1.],\n",
              "       [1., 1., 1., 1., 1.]], dtype=float32)"
            ]
          },
          "metadata": {},
          "execution_count": 4
        }
      ]
    },
    {
      "cell_type": "markdown",
      "source": [
        "perform `element wise addition` of two tensors of shape (4,4)"
      ],
      "metadata": {
        "id": "Ey2Uec3ggWBG"
      }
    },
    {
      "cell_type": "code",
      "source": [
        "a = torch.rand(4,4, device=device)\n",
        "b = torch.rand(4,4, device=device)\n",
        "print(f\"A : {a}\")\n",
        "print(f\"B : {b}\")\n",
        "\n",
        "sum_of_ab = a + b\n",
        "mul_of_ab = a * b\n",
        "\n",
        "print(f\"Sum of A and B : {sum_of_ab}\")\n",
        "print(f\"Multiply A with B : {mul_of_ab}\")"
      ],
      "metadata": {
        "colab": {
          "base_uri": "https://localhost:8080/"
        },
        "id": "FvM2LI5zf2EX",
        "outputId": "9d8d38bc-1c62-4e14-b7d8-9a4cd63c30ca"
      },
      "execution_count": 5,
      "outputs": [
        {
          "output_type": "stream",
          "name": "stdout",
          "text": [
            "A : tensor([[0.5581, 0.5252, 0.1874, 0.8302],\n",
            "        [0.5858, 0.0533, 0.2477, 0.8960],\n",
            "        [0.1217, 0.6605, 0.0983, 0.2517],\n",
            "        [0.8763, 0.4282, 0.5374, 0.9206]], device='cuda:0')\n",
            "B : tensor([[0.1514, 0.2348, 0.8407, 0.2157],\n",
            "        [0.0991, 0.1579, 0.9596, 0.9518],\n",
            "        [0.8605, 0.8671, 0.3850, 0.1871],\n",
            "        [0.6113, 0.5119, 0.0688, 0.3901]], device='cuda:0')\n",
            "Sum of A and B : tensor([[0.7095, 0.7601, 1.0281, 1.0460],\n",
            "        [0.6849, 0.2112, 1.2074, 1.8477],\n",
            "        [0.9823, 1.5276, 0.4833, 0.4388],\n",
            "        [1.4876, 0.9401, 0.6062, 1.3106]], device='cuda:0')\n",
            "Multiply A with B : tensor([[0.0845, 0.1234, 0.1576, 0.1791],\n",
            "        [0.0580, 0.0084, 0.2377, 0.8528],\n",
            "        [0.1047, 0.5727, 0.0378, 0.0471],\n",
            "        [0.5357, 0.2192, 0.0370, 0.3591]], device='cuda:0')\n"
          ]
        }
      ]
    },
    {
      "cell_type": "markdown",
      "source": [
        "create a tensor with values [2,6,8] and `reshape` it into a (2,2)"
      ],
      "metadata": {
        "id": "22auiOYlgxz3"
      }
    },
    {
      "cell_type": "code",
      "source": [
        "new_tensor = torch.tensor([2, 4, 6, 8])\n",
        "new_tensor.reshape([-1,2])"
      ],
      "metadata": {
        "colab": {
          "base_uri": "https://localhost:8080/"
        },
        "id": "0VNZ4v3MghiL",
        "outputId": "d9c84887-3920-4924-d16a-011313a76b44"
      },
      "execution_count": 6,
      "outputs": [
        {
          "output_type": "execute_result",
          "data": {
            "text/plain": [
              "tensor([[2, 4],\n",
              "        [6, 8]])"
            ]
          },
          "metadata": {},
          "execution_count": 6
        }
      ]
    },
    {
      "cell_type": "markdown",
      "source": [
        "`generate a tensor` of random integers between 0 and 10 wih shape (3,3)"
      ],
      "metadata": {
        "id": "GpLCmiMyhU7H"
      }
    },
    {
      "cell_type": "code",
      "source": [
        "torch.randint(low=0, high=10, size=(3,3), device=device)"
      ],
      "metadata": {
        "colab": {
          "base_uri": "https://localhost:8080/"
        },
        "id": "SCFi-HiKhHs1",
        "outputId": "b9756cda-8bc4-4fb9-b93d-6e8cd3177d43"
      },
      "execution_count": 7,
      "outputs": [
        {
          "output_type": "execute_result",
          "data": {
            "text/plain": [
              "tensor([[2, 3, 8],\n",
              "        [7, 6, 9],\n",
              "        [5, 0, 6]], device='cuda:0')"
            ]
          },
          "metadata": {},
          "execution_count": 7
        }
      ]
    },
    {
      "cell_type": "code",
      "source": [],
      "metadata": {
        "id": "RS7ms9ZRNzQe"
      },
      "execution_count": 7,
      "outputs": []
    },
    {
      "cell_type": "markdown",
      "source": [
        "### **AutoGrad**\n",
        "- autograd automatically computes gradients for tensors involved in computation.\n",
        "- It tracks all operations on tensors that have requires_grad=True and builds a computational graph dynamically.\n",
        "- This enables backpropagation, where gradients are computed and stored for optimization."
      ],
      "metadata": {
        "id": "tuAB_MMgHXk9"
      }
    },
    {
      "cell_type": "code",
      "source": [
        "# define a autograd enabled tensor\n",
        "x = torch.tensor(2., requires_grad=True)\n",
        "y = torch.tensor(5., requires_grad=True)\n",
        "\n",
        "print(f\"x : {x}\")\n",
        "print(f\"y : {y}\")"
      ],
      "metadata": {
        "id": "sg1h6pkxNra0",
        "colab": {
          "base_uri": "https://localhost:8080/"
        },
        "outputId": "9069cf98-dc57-4743-dbb6-5c035f9fd971"
      },
      "execution_count": 8,
      "outputs": [
        {
          "output_type": "stream",
          "name": "stdout",
          "text": [
            "x : 2.0\n",
            "y : 5.0\n"
          ]
        }
      ]
    },
    {
      "cell_type": "code",
      "source": [
        "result = x**2 + y**2\n",
        "print(f\"Result : {result}\")"
      ],
      "metadata": {
        "colab": {
          "base_uri": "https://localhost:8080/"
        },
        "id": "LnRTMiVAPP_Y",
        "outputId": "a331efe7-0a9c-43f7-8447-362af8b74baf"
      },
      "execution_count": 9,
      "outputs": [
        {
          "output_type": "stream",
          "name": "stdout",
          "text": [
            "Result : 29.0\n"
          ]
        }
      ]
    },
    {
      "cell_type": "code",
      "source": [
        "# backpropgation\n",
        "result.backward()"
      ],
      "metadata": {
        "id": "MScQRb16PaYO"
      },
      "execution_count": 10,
      "outputs": []
    },
    {
      "cell_type": "code",
      "source": [
        "#find gradient\n",
        "x.grad"
      ],
      "metadata": {
        "colab": {
          "base_uri": "https://localhost:8080/"
        },
        "id": "fvMJ1nYYPdU6",
        "outputId": "32de6ace-01e7-415f-bfd2-2170b34e59bb"
      },
      "execution_count": 11,
      "outputs": [
        {
          "output_type": "execute_result",
          "data": {
            "text/plain": [
              "tensor(4.)"
            ]
          },
          "metadata": {},
          "execution_count": 11
        }
      ]
    },
    {
      "cell_type": "code",
      "source": [
        "y.grad"
      ],
      "metadata": {
        "colab": {
          "base_uri": "https://localhost:8080/"
        },
        "id": "LHkrd9sdPefy",
        "outputId": "800eeab9-c36f-4ca9-dff7-41c0c86b39b2"
      },
      "execution_count": 12,
      "outputs": [
        {
          "output_type": "execute_result",
          "data": {
            "text/plain": [
              "tensor(10.)"
            ]
          },
          "metadata": {},
          "execution_count": 12
        }
      ]
    },
    {
      "cell_type": "code",
      "source": [
        "# reset a autograd\n",
        "x.grad.zero_()"
      ],
      "metadata": {
        "colab": {
          "base_uri": "https://localhost:8080/"
        },
        "id": "NaaAr2t7gUD4",
        "outputId": "7c13e363-e84f-4eb9-e091-15990d3deeee"
      },
      "execution_count": 13,
      "outputs": [
        {
          "output_type": "execute_result",
          "data": {
            "text/plain": [
              "tensor(0.)"
            ]
          },
          "metadata": {},
          "execution_count": 13
        }
      ]
    },
    {
      "cell_type": "code",
      "source": [
        "y.grad.zero_()"
      ],
      "metadata": {
        "colab": {
          "base_uri": "https://localhost:8080/"
        },
        "id": "7q1aCy-Ggc6q",
        "outputId": "8bd63419-b1e5-49ca-e2c7-07442dc449e9"
      },
      "execution_count": 14,
      "outputs": [
        {
          "output_type": "execute_result",
          "data": {
            "text/plain": [
              "tensor(0.)"
            ]
          },
          "metadata": {},
          "execution_count": 14
        }
      ]
    },
    {
      "cell_type": "code",
      "source": [
        "# run without autograd for temporary\n",
        "with torch.no_grad():\n",
        "    y = x*2 # not tracked"
      ],
      "metadata": {
        "id": "Aw7Ld1gVgfc0"
      },
      "execution_count": 15,
      "outputs": []
    },
    {
      "cell_type": "code",
      "source": [
        "# detach autograd\n",
        "z = y.detach()"
      ],
      "metadata": {
        "id": "kHQsM44Ng0Uf"
      },
      "execution_count": 16,
      "outputs": []
    },
    {
      "cell_type": "code",
      "source": [
        "# check if a tensor enabled autograd by\n",
        "print(y.requires_grad)\n",
        "print(x.requires_grad)"
      ],
      "metadata": {
        "colab": {
          "base_uri": "https://localhost:8080/"
        },
        "id": "xdBWF7KBhARV",
        "outputId": "eed0eb3e-066d-4343-95c6-dc12d9be3deb"
      },
      "execution_count": 17,
      "outputs": [
        {
          "output_type": "stream",
          "name": "stdout",
          "text": [
            "False\n",
            "True\n"
          ]
        }
      ]
    },
    {
      "cell_type": "markdown",
      "source": [
        "## **Dataset, DataLoader, Batch Traning**\n",
        "\n",
        "- Implement Abstract Dataset class, with `__len__`, `__getitem__` methods."
      ],
      "metadata": {
        "id": "hiyC3U8df2Xe"
      }
    },
    {
      "cell_type": "code",
      "source": [
        "from torch.utils.data import Dataset, DataLoader"
      ],
      "metadata": {
        "id": "ybInt-GWgLlo"
      },
      "execution_count": 18,
      "outputs": []
    },
    {
      "cell_type": "code",
      "source": [
        "class CustomeAgeDataset(Dataset):\n",
        "    def __init__(self, x: torch.Tensor, y: torch.Tensor) -> None:\n",
        "        self.x = x\n",
        "        self.y = y\n",
        "\n",
        "    def __len__(self) -> int:\n",
        "        return len(self.x)\n",
        "\n",
        "    def __getitem__(self, idx: int) -> tuple:\n",
        "        return (self.x[idx], self.y[idx])"
      ],
      "metadata": {
        "id": "AtKhEdD8gVQO"
      },
      "execution_count": 26,
      "outputs": []
    },
    {
      "cell_type": "code",
      "source": [
        "# demo data\n",
        "\n",
        "x = torch.randn(200)\n",
        "y = torch.randint(0, 2, (200,))"
      ],
      "metadata": {
        "id": "Y_7Mo_8hiebb"
      },
      "execution_count": 27,
      "outputs": []
    },
    {
      "cell_type": "code",
      "source": [
        "dataset = CustomeAgeDataset(x=x, y=y)\n",
        "\n",
        "dataloader = DataLoader(dataset=dataset, batch_size=40, shuffle=True)"
      ],
      "metadata": {
        "id": "Q-LcRFkEi_rL"
      },
      "execution_count": 28,
      "outputs": []
    },
    {
      "cell_type": "code",
      "source": [
        "count = 0\n",
        "for batch_x, batch_y in dataloader:\n",
        "    print(f\"Batch {count}\")\n",
        "    print(batch_x)\n",
        "    print(batch_y)\n",
        "    count += 1"
      ],
      "metadata": {
        "colab": {
          "base_uri": "https://localhost:8080/"
        },
        "id": "p80rmlYMmXDe",
        "outputId": "06b54937-395a-4c6c-80b5-e1b0ecda397a"
      },
      "execution_count": 30,
      "outputs": [
        {
          "output_type": "stream",
          "name": "stdout",
          "text": [
            "Batch 0\n",
            "tensor([ 0.2421,  0.7291, -0.3071, -1.4032,  0.1107, -0.3651,  0.4047, -2.7415,\n",
            "        -0.2617, -1.1617,  0.3925,  2.0454, -1.9182,  2.1906,  0.5570,  0.1330,\n",
            "         0.5722, -0.4240,  1.0280, -0.8951,  1.0037, -0.5076, -1.8809, -1.4003,\n",
            "         0.2853,  0.7065,  0.3381,  1.6517,  0.1253, -0.7566, -2.0574, -0.0351,\n",
            "        -0.3854, -0.2733, -1.5034,  0.0376,  0.0476,  0.3671,  1.2494, -1.4056])\n",
            "tensor([1, 1, 1, 1, 1, 1, 0, 0, 1, 1, 1, 1, 0, 1, 1, 0, 0, 1, 0, 0, 0, 1, 1, 1,\n",
            "        0, 0, 0, 1, 0, 1, 0, 1, 0, 1, 1, 0, 1, 1, 1, 0])\n",
            "Batch 1\n",
            "tensor([-0.0266, -0.4916,  1.3733,  0.6968,  0.5315, -0.9435,  0.1442,  0.1362,\n",
            "        -1.0816,  1.7042, -0.7331,  1.0579, -0.3523,  0.6335, -2.1486,  0.0970,\n",
            "         0.8896, -1.5390,  1.1429,  0.3563, -0.7235, -1.9708, -1.0839, -1.2190,\n",
            "         0.5290, -1.2448,  0.2023,  0.9467,  0.5589,  1.1294, -0.2354,  0.0043,\n",
            "         0.6745, -0.6112, -1.4758, -0.9249, -0.7548,  1.9881, -1.7153,  1.0958])\n",
            "tensor([0, 0, 0, 1, 0, 0, 1, 1, 0, 1, 0, 1, 1, 1, 0, 0, 1, 0, 1, 1, 0, 1, 1, 1,\n",
            "        0, 1, 1, 0, 1, 0, 1, 1, 1, 0, 0, 1, 0, 1, 1, 0])\n",
            "Batch 2\n",
            "tensor([ 1.5977,  0.8457, -0.3352, -0.1993,  1.2361, -0.5713, -2.3921, -1.5747,\n",
            "        -0.7554, -0.4046,  0.4484, -1.7809,  0.3420,  2.0759,  1.0799, -1.3603,\n",
            "         2.4544, -0.0959,  0.5558, -0.2485, -0.5247,  0.3646, -1.4037,  0.0529,\n",
            "         0.8506,  1.9871, -0.1304, -1.2689,  0.3503,  0.6243,  0.1655,  1.0298,\n",
            "        -0.0051,  0.2156, -1.5040, -1.6417, -1.1217,  0.4133, -0.2253,  0.3638])\n",
            "tensor([0, 0, 0, 1, 1, 0, 0, 0, 1, 1, 1, 0, 0, 1, 1, 1, 1, 1, 1, 1, 0, 1, 0, 0,\n",
            "        1, 0, 0, 0, 1, 0, 1, 0, 0, 0, 0, 0, 0, 0, 0, 0])\n",
            "Batch 3\n",
            "tensor([-9.9372e-01, -3.6061e-01, -6.1588e-01, -6.9262e-01, -5.6381e-01,\n",
            "        -4.9482e-01, -6.2864e-02,  1.2447e+00, -9.6357e-01,  1.1511e+00,\n",
            "        -8.6301e-01, -1.4888e+00, -1.0764e+00,  2.0964e-01,  1.2245e+00,\n",
            "         1.6324e-01, -7.9381e-01, -5.6731e-01, -8.7891e-01, -5.7261e-01,\n",
            "         2.4690e-01, -1.6781e+00, -1.1920e+00,  2.0461e+00,  8.4281e-02,\n",
            "         6.7826e-01, -1.5965e+00, -7.9008e-01, -9.9594e-01,  1.0695e+00,\n",
            "         1.8725e-01, -8.5657e-02, -1.1531e+00,  1.7813e+00, -1.4115e-03,\n",
            "         6.4968e-01, -5.5201e-01,  2.0430e-01,  1.4672e-01,  9.5260e-01])\n",
            "tensor([1, 1, 0, 0, 0, 0, 1, 1, 0, 0, 0, 0, 0, 1, 1, 0, 1, 0, 1, 0, 1, 0, 0, 1,\n",
            "        1, 1, 1, 0, 0, 0, 0, 1, 1, 0, 0, 0, 0, 1, 1, 0])\n",
            "Batch 4\n",
            "tensor([ 0.6559,  1.0445, -0.6378, -0.4993,  0.4362, -1.2523, -0.6938,  0.7467,\n",
            "         2.1127,  0.1436,  1.2489,  0.4627, -1.4362, -0.0531,  0.1836,  0.1820,\n",
            "         0.3222,  1.0890, -1.6127,  0.2242, -1.3534,  0.9919, -1.5692, -1.7549,\n",
            "        -0.1432,  1.3230,  0.3780,  0.4805,  1.1969, -0.2412,  1.3052,  0.6843,\n",
            "        -2.6065,  1.2713,  0.4764,  1.4496,  1.3336, -0.8395, -0.4080,  1.1700])\n",
            "tensor([0, 1, 0, 1, 0, 1, 0, 1, 0, 0, 0, 0, 0, 1, 0, 1, 1, 0, 1, 0, 1, 1, 0, 1,\n",
            "        0, 1, 1, 1, 1, 1, 0, 0, 1, 1, 1, 0, 1, 0, 1, 0])\n"
          ]
        }
      ]
    },
    {
      "cell_type": "markdown",
      "source": [
        "- while traninig deep learning model, we using batched training.\n",
        "- this comes under the epoch loop,\n",
        "\n",
        "**In Simply**\n",
        "- 1 epoch means the model traverse on entire dataset,\n",
        "- Batch means split out dataset into chunks. 1 epoch complte the model go through all batches"
      ],
      "metadata": {
        "id": "BbGJlcXhnk3b"
      }
    },
    {
      "cell_type": "code",
      "source": [],
      "metadata": {
        "id": "8_BNhQAamdZK"
      },
      "execution_count": null,
      "outputs": []
    }
  ]
}