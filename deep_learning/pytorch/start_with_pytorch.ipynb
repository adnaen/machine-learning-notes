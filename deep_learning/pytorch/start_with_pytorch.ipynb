{
  "nbformat": 4,
  "nbformat_minor": 0,
  "metadata": {
    "colab": {
      "provenance": [],
      "gpuType": "T4",
      "authorship_tag": "ABX9TyPJmeOjWpcdcqGVgFd9LUb8",
      "include_colab_link": true
    },
    "kernelspec": {
      "name": "python3",
      "display_name": "Python 3"
    },
    "language_info": {
      "name": "python"
    },
    "accelerator": "GPU"
  },
  "cells": [
    {
      "cell_type": "markdown",
      "metadata": {
        "id": "view-in-github",
        "colab_type": "text"
      },
      "source": [
        "<a href=\"https://colab.research.google.com/github/adnaen/machine-learning-notes/blob/main/DEEP_LEARNING/pytorch_tutorial.ipynb\" target=\"_parent\"><img src=\"https://colab.research.google.com/assets/colab-badge.svg\" alt=\"Open In Colab\"/></a>"
      ]
    },
    {
      "cell_type": "markdown",
      "source": [
        "# **PyTorch Tutorial To Get Started**"
      ],
      "metadata": {
        "id": "qnMveVplk862"
      }
    },
    {
      "cell_type": "code",
      "execution_count": 74,
      "metadata": {
        "id": "VJs44ca1e8ZB"
      },
      "outputs": [],
      "source": [
        "import torch"
      ]
    },
    {
      "cell_type": "code",
      "source": [
        "device = \"cuda\" if torch.cuda.is_available() else \"cpu\"\n",
        "device"
      ],
      "metadata": {
        "colab": {
          "base_uri": "https://localhost:8080/",
          "height": 35
        },
        "id": "unOZTDnEgo5m",
        "outputId": "209248e3-b735-4cbb-98d9-08f489809552"
      },
      "execution_count": 75,
      "outputs": [
        {
          "output_type": "execute_result",
          "data": {
            "text/plain": [
              "'cuda'"
            ],
            "application/vnd.google.colaboratory.intrinsic+json": {
              "type": "string"
            }
          },
          "metadata": {},
          "execution_count": 75
        }
      ]
    },
    {
      "cell_type": "markdown",
      "source": [
        "**Tensors**\n",
        "```\n",
        "scaler = single value\n",
        "vector = 1-Dim tensor\n",
        "matrix = 2-Dim tensor\n",
        "tensor = N-Dim tensor\n",
        "```"
      ],
      "metadata": {
        "id": "LsHlDP9WlNQU"
      }
    },
    {
      "cell_type": "markdown",
      "source": [
        "create random (3,4) `tensor` and print its shape"
      ],
      "metadata": {
        "id": "ZlYuKq0yfSLh"
      }
    },
    {
      "cell_type": "code",
      "source": [
        "random_tensor = torch.rand((3,4), device=device)\n",
        "print(f\"Random Tensor: {random_tensor}\")\n",
        "print(f\"Tensor size: {random_tensor.shape}\")\n",
        "print(f\"Tensor Dimension : {random_tensor.ndim}\")"
      ],
      "metadata": {
        "colab": {
          "base_uri": "https://localhost:8080/"
        },
        "id": "wFMbDrV6fPNA",
        "outputId": "882b4b43-1755-443f-d558-be2b579bcef5"
      },
      "execution_count": 76,
      "outputs": [
        {
          "output_type": "stream",
          "name": "stdout",
          "text": [
            "Random Tensor: tensor([[0.5583, 0.0985, 0.7192, 0.9854],\n",
            "        [0.8710, 0.2661, 0.8546, 0.5825],\n",
            "        [0.1877, 0.2421, 0.9709, 0.6170]], device='cuda:0')\n",
            "Tensor size: torch.Size([3, 4])\n",
            "Tensor Dimension : 2\n"
          ]
        }
      ]
    },
    {
      "cell_type": "markdown",
      "source": [
        "create tensor with `ones` with shape (2,5), and convert it to Numpy Array"
      ],
      "metadata": {
        "id": "PoS0cOIwfoue"
      }
    },
    {
      "cell_type": "code",
      "source": [
        "ones_tensor = torch.ones((2,5), device=device)\n",
        "ones_tensor.cpu().numpy()"
      ],
      "metadata": {
        "colab": {
          "base_uri": "https://localhost:8080/"
        },
        "id": "AYRARj5bffeI",
        "outputId": "bdaf38f2-7568-4c3b-b36e-04442fc05c46"
      },
      "execution_count": 77,
      "outputs": [
        {
          "output_type": "execute_result",
          "data": {
            "text/plain": [
              "array([[1., 1., 1., 1., 1.],\n",
              "       [1., 1., 1., 1., 1.]], dtype=float32)"
            ]
          },
          "metadata": {},
          "execution_count": 77
        }
      ]
    },
    {
      "cell_type": "markdown",
      "source": [
        "perform `element wise addition` of two tensors of shape (4,4)"
      ],
      "metadata": {
        "id": "Ey2Uec3ggWBG"
      }
    },
    {
      "cell_type": "code",
      "source": [
        "a = torch.rand(4,4, device=device)\n",
        "b = torch.rand(4,4, device=device)\n",
        "print(f\"A : {a}\")\n",
        "print(f\"B : {b}\")\n",
        "\n",
        "sum_of_ab = a + b\n",
        "mul_of_ab = a * b\n",
        "\n",
        "print(f\"Sum of A and B : {sum_of_ab}\")\n",
        "print(f\"Multiply A with B : {mul_of_ab}\")"
      ],
      "metadata": {
        "colab": {
          "base_uri": "https://localhost:8080/"
        },
        "id": "FvM2LI5zf2EX",
        "outputId": "08381d9e-66b7-45dd-ba7a-39ec992ebc55"
      },
      "execution_count": 78,
      "outputs": [
        {
          "output_type": "stream",
          "name": "stdout",
          "text": [
            "A : tensor([[0.2371, 0.4362, 0.9468, 0.6972],\n",
            "        [0.0722, 0.1591, 0.6380, 0.6694],\n",
            "        [0.7067, 0.8732, 0.6035, 0.3289],\n",
            "        [0.4799, 0.9004, 0.7413, 0.7889]], device='cuda:0')\n",
            "B : tensor([[0.6116, 0.4010, 0.2082, 0.9436],\n",
            "        [0.8716, 0.5758, 0.3271, 0.1345],\n",
            "        [0.9979, 0.7957, 0.9497, 0.1168],\n",
            "        [0.2380, 0.0022, 0.2344, 0.4519]], device='cuda:0')\n",
            "Sum of A and B : tensor([[0.8486, 0.8372, 1.1550, 1.6408],\n",
            "        [0.9438, 0.7350, 0.9652, 0.8040],\n",
            "        [1.7046, 1.6690, 1.5532, 0.4458],\n",
            "        [0.7179, 0.9026, 0.9758, 1.2409]], device='cuda:0')\n",
            "Multiply A with B : tensor([[0.1450, 0.1749, 0.1971, 0.6579],\n",
            "        [0.0629, 0.0916, 0.2087, 0.0901],\n",
            "        [0.7052, 0.6949, 0.5731, 0.0384],\n",
            "        [0.1142, 0.0020, 0.1738, 0.3566]], device='cuda:0')\n"
          ]
        }
      ]
    },
    {
      "cell_type": "markdown",
      "source": [
        "create a tensor with values [2,6,8] and `reshape` it into a (2,2)"
      ],
      "metadata": {
        "id": "22auiOYlgxz3"
      }
    },
    {
      "cell_type": "code",
      "source": [
        "new_tensor = torch.tensor([2, 4, 6, 8])\n",
        "new_tensor.reshape([-1,2])"
      ],
      "metadata": {
        "colab": {
          "base_uri": "https://localhost:8080/"
        },
        "id": "0VNZ4v3MghiL",
        "outputId": "11169fb8-e8bf-4a5e-d7a5-d76fce9a71f5"
      },
      "execution_count": 79,
      "outputs": [
        {
          "output_type": "execute_result",
          "data": {
            "text/plain": [
              "tensor([[2, 4],\n",
              "        [6, 8]])"
            ]
          },
          "metadata": {},
          "execution_count": 79
        }
      ]
    },
    {
      "cell_type": "markdown",
      "source": [
        "`generate a tensor` of random integers between 0 and 10 wih shape (3,3)"
      ],
      "metadata": {
        "id": "GpLCmiMyhU7H"
      }
    },
    {
      "cell_type": "code",
      "source": [
        "torch.randint(low=0, high=10, size=(3,3), device=device)"
      ],
      "metadata": {
        "colab": {
          "base_uri": "https://localhost:8080/"
        },
        "id": "SCFi-HiKhHs1",
        "outputId": "ceed13ef-014b-48a2-d8ca-ea90be4adea4"
      },
      "execution_count": 80,
      "outputs": [
        {
          "output_type": "execute_result",
          "data": {
            "text/plain": [
              "tensor([[1, 2, 6],\n",
              "        [3, 8, 1],\n",
              "        [9, 6, 2]], device='cuda:0')"
            ]
          },
          "metadata": {},
          "execution_count": 80
        }
      ]
    },
    {
      "cell_type": "markdown",
      "source": [
        "### **AutoGrad**\n",
        "- autograd automatically computes gradients for tensors involved in computation.\n",
        "- It tracks all operations on tensors that have requires_grad=True and builds a computational graph dynamically.\n",
        "- This enables backpropagation, where gradients are computed and stored for optimization."
      ],
      "metadata": {
        "id": "tuAB_MMgHXk9"
      }
    },
    {
      "cell_type": "code",
      "source": [
        "# define a autograd enabled tensor\n",
        "x = torch.tensor(2., requires_grad=True)\n",
        "y = torch.tensor(5., requires_grad=True)\n",
        "\n",
        "print(f\"x : {x}\")\n",
        "print(f\"y : {y}\")"
      ],
      "metadata": {
        "id": "sg1h6pkxNra0",
        "colab": {
          "base_uri": "https://localhost:8080/"
        },
        "outputId": "cd0a476f-f27b-4e30-c89f-d4b0fa109045"
      },
      "execution_count": 81,
      "outputs": [
        {
          "output_type": "stream",
          "name": "stdout",
          "text": [
            "x : 2.0\n",
            "y : 5.0\n"
          ]
        }
      ]
    },
    {
      "cell_type": "code",
      "source": [
        "result = x**2 + y**2\n",
        "print(f\"Result : {result}\")"
      ],
      "metadata": {
        "colab": {
          "base_uri": "https://localhost:8080/"
        },
        "id": "LnRTMiVAPP_Y",
        "outputId": "3a878afa-6fde-4ca7-ab08-525c03e46602"
      },
      "execution_count": 86,
      "outputs": [
        {
          "output_type": "stream",
          "name": "stdout",
          "text": [
            "Result : 29.0\n"
          ]
        }
      ]
    },
    {
      "cell_type": "code",
      "source": [
        "# backpropgation\n",
        "result.backward()"
      ],
      "metadata": {
        "id": "MScQRb16PaYO"
      },
      "execution_count": 87,
      "outputs": []
    },
    {
      "cell_type": "code",
      "source": [
        "#find gradient\n",
        "x.grad"
      ],
      "metadata": {
        "colab": {
          "base_uri": "https://localhost:8080/"
        },
        "id": "fvMJ1nYYPdU6",
        "outputId": "61af76a7-4d2a-4354-99f4-c6d90752aa1c"
      },
      "execution_count": 88,
      "outputs": [
        {
          "output_type": "execute_result",
          "data": {
            "text/plain": [
              "tensor(5.)"
            ]
          },
          "metadata": {},
          "execution_count": 88
        }
      ]
    },
    {
      "cell_type": "code",
      "source": [
        "y.grad"
      ],
      "metadata": {
        "colab": {
          "base_uri": "https://localhost:8080/"
        },
        "id": "LHkrd9sdPefy",
        "outputId": "80b06aa2-baf1-4682-e3df-6c7fe3f723f8"
      },
      "execution_count": 89,
      "outputs": [
        {
          "output_type": "execute_result",
          "data": {
            "text/plain": [
              "tensor(11.)"
            ]
          },
          "metadata": {},
          "execution_count": 89
        }
      ]
    },
    {
      "cell_type": "code",
      "source": [
        "# reset a autograd\n",
        "x.grad.zero_()"
      ],
      "metadata": {
        "colab": {
          "base_uri": "https://localhost:8080/"
        },
        "id": "NaaAr2t7gUD4",
        "outputId": "99267fb4-dd89-427e-fd2d-be2a020b4a6b"
      },
      "execution_count": 90,
      "outputs": [
        {
          "output_type": "execute_result",
          "data": {
            "text/plain": [
              "tensor(0.)"
            ]
          },
          "metadata": {},
          "execution_count": 90
        }
      ]
    },
    {
      "cell_type": "code",
      "source": [
        "y.grad.zero_()"
      ],
      "metadata": {
        "colab": {
          "base_uri": "https://localhost:8080/"
        },
        "id": "7q1aCy-Ggc6q",
        "outputId": "8bfc7589-96cd-4015-a762-09b2c5a2c820"
      },
      "execution_count": 91,
      "outputs": [
        {
          "output_type": "execute_result",
          "data": {
            "text/plain": [
              "tensor(0.)"
            ]
          },
          "metadata": {},
          "execution_count": 91
        }
      ]
    },
    {
      "cell_type": "code",
      "source": [
        "# run without autograd for temporary\n",
        "with torch.no_grad():\n",
        "    y = x*2 # not tracked"
      ],
      "metadata": {
        "id": "Aw7Ld1gVgfc0"
      },
      "execution_count": 92,
      "outputs": []
    },
    {
      "cell_type": "code",
      "source": [
        "# detach autograd\n",
        "z = y.detach()"
      ],
      "metadata": {
        "id": "kHQsM44Ng0Uf"
      },
      "execution_count": 93,
      "outputs": []
    },
    {
      "cell_type": "code",
      "source": [
        "# check if a tensor enabled autograd by\n",
        "print(y.requires_grad)\n",
        "print(x.requires_grad)"
      ],
      "metadata": {
        "colab": {
          "base_uri": "https://localhost:8080/"
        },
        "id": "xdBWF7KBhARV",
        "outputId": "b3824e3b-8aa4-430b-8f63-7d7aa17ea97e"
      },
      "execution_count": 95,
      "outputs": [
        {
          "output_type": "stream",
          "name": "stdout",
          "text": [
            "False\n",
            "True\n"
          ]
        }
      ]
    }
  ]
}