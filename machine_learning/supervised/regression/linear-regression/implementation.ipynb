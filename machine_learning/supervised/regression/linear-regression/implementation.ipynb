{
 "cells": [
  {
   "cell_type": "markdown",
   "id": "05feb880-2444-435d-a474-add27b91f485",
   "metadata": {},
   "source": [
    "*Made By [Adnan](https://linktr.ee/adnaaaen)*"
   ]
  },
  {
   "cell_type": "markdown",
   "id": "3a425f3e-a5ad-4a8f-95a0-6c10e3097ec9",
   "metadata": {},
   "source": [
    "# ***Linear Regression From Scratch***"
   ]
  },
  {
   "cell_type": "code",
   "execution_count": 1,
   "id": "715b5f5d-0d69-43a8-b2f0-b96ac494c9a3",
   "metadata": {},
   "outputs": [],
   "source": [
    "import numpy as np\n",
    "from sklearn.datasets import make_regression\n",
    "from sklearn.model_selection import train_test_split\n",
    "from sklearn.preprocessing import StandardScaler\n",
    "from sklearn.metrics import mean_absolute_error, mean_squared_error\n",
    "\n",
    "# types\n",
    "from typing import Any\n",
    "from numpy.typing import NDArray"
   ]
  },
  {
   "cell_type": "code",
   "execution_count": 2,
   "id": "f4861c23-41fa-45dd-86c0-a1a40460adb2",
   "metadata": {},
   "outputs": [],
   "source": [
    "raw_x, raw_y = make_regression(n_samples=1000, random_state=8376)"
   ]
  },
  {
   "cell_type": "code",
   "execution_count": 3,
   "id": "958c276c-404c-4e45-b4a4-971084819790",
   "metadata": {},
   "outputs": [],
   "source": [
    "standard_scaler = StandardScaler()\n",
    "scaled_x = standard_scaler.fit_transform(raw_x)"
   ]
  },
  {
   "cell_type": "markdown",
   "id": "00b3e556-989b-43be-bef4-54e54ccfc854",
   "metadata": {},
   "source": [
    "## ***Implementation***"
   ]
  },
  {
   "cell_type": "code",
   "execution_count": 4,
   "id": "adf3a8b3-8d0c-4a96-a68e-5437df8631f6",
   "metadata": {},
   "outputs": [],
   "source": [
    "class LinearRegression:\n",
    "\n",
    "    def __init__(self, learning_rate: float = 0.001, epochs: int = 500) -> None:\n",
    "        self.learning_rate = learning_rate\n",
    "        self.epochs = epochs\n",
    "        # model params\n",
    "        self._coeffient = None\n",
    "        self._intercept = None\n",
    "\n",
    "    def linear_equation(self, X: NDArray) -> NDArray:\n",
    "        # y = m . x + c\n",
    "        return np.dot(X, self._coeffient) + self._intercept\n",
    "\n",
    "    def gradient_descent(self) -> None:\n",
    "        errors = self.y_pred - self.y_train\n",
    "        dw = (2 / self.row) * np.dot(self.x_train.T, errors)\n",
    "        db = (2 / self.row) * np.sum(errors)\n",
    "        return dw, db        \n",
    "        \n",
    "    def update_params(self) -> None:\n",
    "        dw, db = self.gradient_descent()\n",
    "        self._coeffient -= self.learning_rate * dw\n",
    "        self._intercept -= self.learning_rate * db\n",
    "\n",
    "    def fit(self, X: NDArray, Y: NDArray) -> None:\n",
    "        self.row, self.col = X.shape\n",
    "        self.x_train = X\n",
    "        self.y_train = Y\n",
    "        \n",
    "        self._coeffient = np.random.randn(self.col) * 0.01\n",
    "        self._intercept = np.random.randn()\n",
    "        for i in range(self.epochs+1):\n",
    "            self.y_pred = self.linear_equation(self.x_train)\n",
    "            self.update_params()\n",
    "\n",
    "            if i % 50 == 0:\n",
    "                mse = mean_squared_error(self.y_train, self.y_pred)\n",
    "                mae = mean_absolute_error(self.y_train, self.y_pred)\n",
    "                print(f\"Epoch: {i}, MSE: {mse}, MAE: {mae}\")\n",
    "                \n",
    "        print(\"Training Completed\")\n",
    "\n",
    "    def predict(self, X: NDArray) -> None:\n",
    "        return self.linear_equation(X)\n",
    "        \n"
   ]
  },
  {
   "cell_type": "code",
   "execution_count": 5,
   "id": "c5b84fa7-5b38-4cfa-98bf-8d60fb81f21b",
   "metadata": {},
   "outputs": [],
   "source": [
    "x_train, x_test, y_train, y_test = train_test_split(scaled_x, raw_y)"
   ]
  },
  {
   "cell_type": "markdown",
   "id": "66d99c68-df8c-4bb9-b764-44df1a4a846a",
   "metadata": {},
   "source": [
    "## ***Train***"
   ]
  },
  {
   "cell_type": "code",
   "execution_count": 6,
   "id": "13ce169e-5319-4e1d-aa28-e82cac120e5b",
   "metadata": {},
   "outputs": [
    {
     "name": "stdout",
     "output_type": "stream",
     "text": [
      "Epoch: 0, MSE: 34336.135508934974, MAE: 148.22452747408195\n",
      "Epoch: 50, MSE: 4116.55459837697, MAE: 51.261379725473276\n",
      "Epoch: 100, MSE: 789.5944912451608, MAE: 22.325211032508165\n",
      "Epoch: 150, MSE: 200.75900130617634, MAE: 11.222391368392877\n",
      "Epoch: 200, MSE: 59.53398193339468, MAE: 6.098389592196682\n",
      "Epoch: 250, MSE: 19.378642010005855, MAE: 3.4705086225396116\n",
      "Epoch: 300, MSE: 6.716613351122778, MAE: 2.041618199548122\n",
      "Epoch: 350, MSE: 2.434005445437082, MAE: 1.2284422105844623\n",
      "Epoch: 400, MSE: 0.9108200821823557, MAE: 0.7521905195403132\n",
      "Epoch: 450, MSE: 0.3488329356996175, MAE: 0.4657493510632541\n",
      "Epoch: 500, MSE: 0.135860548525389, MAE: 0.29065756396032766\n",
      "Training Completed\n"
     ]
    }
   ],
   "source": [
    "model = LinearRegression(learning_rate=0.01)\n",
    "model.fit(x_train, y_train)"
   ]
  },
  {
   "cell_type": "markdown",
   "id": "336c6b5b-f56c-4618-ae47-83d16c5510ec",
   "metadata": {},
   "source": [
    "## ***Prediction***"
   ]
  },
  {
   "cell_type": "code",
   "execution_count": 19,
   "id": "e3d73a5d-656e-476a-998a-b50321ca8eb9",
   "metadata": {},
   "outputs": [],
   "source": [
    "y_pred = model.predict(x_test)"
   ]
  },
  {
   "cell_type": "code",
   "execution_count": 20,
   "id": "87ebb6c4-06a2-4227-8194-1b522bc8669a",
   "metadata": {},
   "outputs": [
    {
     "name": "stdout",
     "output_type": "stream",
     "text": [
      "Test MSE: 0.3219246539547058\n",
      "Test MAE: 0.4428617006936782\n"
     ]
    }
   ],
   "source": [
    "test_mse = mean_squared_error(y_test, y_pred)\n",
    "test_mae = mean_absolute_error(y_test, y_pred)\n",
    "\n",
    "print(f\"Test MSE: {test_mse}\")\n",
    "print(f\"Test MAE: {test_mae}\")"
   ]
  }
 ],
 "metadata": {
  "kernelspec": {
   "display_name": "Python 3 (ipykernel)",
   "language": "python",
   "name": "python3"
  },
  "language_info": {
   "codemirror_mode": {
    "name": "ipython",
    "version": 3
   },
   "file_extension": ".py",
   "mimetype": "text/x-python",
   "name": "python",
   "nbconvert_exporter": "python",
   "pygments_lexer": "ipython3",
   "version": "3.12.7"
  }
 },
 "nbformat": 4,
 "nbformat_minor": 5
}
