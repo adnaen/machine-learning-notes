{
 "cells": [
  {
   "cell_type": "markdown",
   "id": "ff48d4ba-be65-4a90-ae2b-46abc3566e1c",
   "metadata": {},
   "source": [
    "# **XGBoost Implementation**"
   ]
  },
  {
   "cell_type": "code",
   "execution_count": 1,
   "id": "63078b67-99eb-4c40-ae78-9e916f7f2b1f",
   "metadata": {},
   "outputs": [],
   "source": [
    "from xgboost import XGBClassifier"
   ]
  },
  {
   "cell_type": "code",
   "execution_count": null,
   "id": "ea082dde-86bd-4982-8a4d-4412f0cc794f",
   "metadata": {},
   "outputs": [],
   "source": []
  }
 ],
 "metadata": {
  "kernelspec": {
   "display_name": "Python 3 (ipykernel)",
   "language": "python",
   "name": "python3"
  },
  "language_info": {
   "codemirror_mode": {
    "name": "ipython",
    "version": 3
   },
   "file_extension": ".py",
   "mimetype": "text/x-python",
   "name": "python",
   "nbconvert_exporter": "python",
   "pygments_lexer": "ipython3",
   "version": "3.12.8"
  }
 },
 "nbformat": 4,
 "nbformat_minor": 5
}
