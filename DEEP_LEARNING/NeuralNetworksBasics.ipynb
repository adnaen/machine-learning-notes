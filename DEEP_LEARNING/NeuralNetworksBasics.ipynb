{
  "nbformat": 4,
  "nbformat_minor": 0,
  "metadata": {
    "colab": {
      "provenance": [],
      "authorship_tag": "ABX9TyNWvgeMs30WjDIWZ8fOyM/x",
      "include_colab_link": true
    },
    "kernelspec": {
      "name": "python3",
      "display_name": "Python 3"
    },
    "language_info": {
      "name": "python"
    }
  },
  "cells": [
    {
      "cell_type": "markdown",
      "metadata": {
        "id": "view-in-github",
        "colab_type": "text"
      },
      "source": [
        "<a href=\"https://colab.research.google.com/github/adnaen/machine-learning-notes/blob/main/DEEP_LEARNING/NeuralNetworksBasics.ipynb\" target=\"_parent\"><img src=\"https://colab.research.google.com/assets/colab-badge.svg\" alt=\"Open In Colab\"/></a>"
      ]
    },
    {
      "cell_type": "markdown",
      "source": [
        "## **Neural Network**\n",
        "A Neural Network is a collection of **multiple perceptrons** inspired by the human brain. It consists of interconnected layers where each neuron (node) processes information and passes it to the next layer.\n",
        "\n",
        "\n"
      ],
      "metadata": {
        "id": "Y9Q61BIveavp"
      }
    },
    {
      "cell_type": "markdown",
      "source": [
        "### **Perceptron**\n",
        "A single-layer perceptron is a basic neural network unit that computes:\n",
        "- Structure of a perceptron\n",
        "    - Input Layer: Accepts the input data.\n",
        "    - Hidden Layers: Linear transformation, Activation function\n",
        "    - Output Layer: Gives the final result\n",
        "\n",
        "`collection of these perceptron are the multi layers!`"
      ],
      "metadata": {
        "id": "1ttFcIsNffiS"
      }
    },
    {
      "cell_type": "markdown",
      "source": [
        "### **Types of Neural Networks**\n",
        "\n",
        "- **FNN** (Feedforward Neural Network)\n",
        "\n",
        "    - Data flows only forward (no loops).\n",
        "    - Used for tabular data and simple tasks.\n",
        "    - Example: MLP (Multi-Layer Perceptron).\n",
        "\n",
        "- **CNN** (Convolutional Neural Network)\n",
        "\n",
        "    - Used for image/video processing.\n",
        "    - Uses convolution and pooling layers to extract features.\n",
        "    - Example: Image classification, object detection.\n",
        "\n",
        "- **RNN** (Recurrent Neural Network)\n",
        "\n",
        "    - Used for sequential data (text, time series).\n",
        "    - Maintains memory of previous inputs.\n",
        "    - Can have bidirectional flow (front & back).\n",
        "    - Example: Sentiment analysis, speech recognition"
      ],
      "metadata": {
        "id": "tQby2M_Gx6k0"
      }
    },
    {
      "cell_type": "markdown",
      "source": [
        "### **Activation Functions**\n",
        "\n",
        "Used to introduce non-linearity so the network can learn complex patterns.\n",
        "\n",
        "- **ReLU** (Rectified Linear Unit) → Default for deep networks.\n",
        "- **Sigmoid** → Used for binary classification (outputs between 0 & 1).\n",
        "- **Softmax** → Used for multi-class classification (probabilities sum to 1).\n",
        "- **Tanh** → Used in some RNNs (outputs between -1 & 1)."
      ],
      "metadata": {
        "id": "bT8tyYIix6da"
      }
    },
    {
      "cell_type": "markdown",
      "source": [
        "## **Loss Functions**\n",
        "\n",
        "The model tries to minimize the loss function:\n",
        "\n",
        "- **MSE** (Mean Squared Error) → Regression problems.\n",
        "- **CrossEntropyLoss** → Classification problems"
      ],
      "metadata": {
        "id": "Ud3OE1KtzGM5"
      }
    },
    {
      "cell_type": "markdown",
      "source": [
        "## **Optimizers**\n",
        "\n",
        "Used to adjust weights to minimize loss.\n",
        "\n",
        "- **SGD** (Stochastic Gradient Descent) → Basic optimizer.\n",
        "- **Adam** (Adaptive Moment Estimation) → Popular for deep learning.\n",
        "- **RMSprop** → Good for RNNs"
      ],
      "metadata": {
        "id": "A4WlGWY0y2HI"
      }
    },
    {
      "cell_type": "markdown",
      "source": [
        "## **Hyperparameters**\n",
        "\n",
        "- **Epochs**: Number of times the model sees the full dataset.\n",
        "- **Batch Size**: Number of samples processed at once.\n",
        "- **Learning Rate**: Controls how much weights change in each step.\n",
        "\n",
        "💡 Example:\n",
        "\n",
        "    If you have 1,000 samples and batch size 100, then:\n",
        "        1 Epoch = 10 Iterations (1000 / 100 = 10 batches)"
      ],
      "metadata": {
        "id": "VKjvGmlXzBjc"
      }
    },
    {
      "cell_type": "markdown",
      "source": [
        "## **Training Process of a Neural Network**\n",
        "\n",
        "- **Forward Propagation** → Pass input through the network to get predictions.\n",
        "- **Compute Loss** → Compare predictions with actual output.\n",
        "- **Backpropagation** → Adjust weights using the gradient of the loss function.\n",
        "- **Optimization** → Use optimizers like SGD, Adam to update weights.\n",
        "\n",
        "Repeat for multiple epochs until the model learns well."
      ],
      "metadata": {
        "id": "XoSVQNdtzbjX"
      }
    }
  ]
}