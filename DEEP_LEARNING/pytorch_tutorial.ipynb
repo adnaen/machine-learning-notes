{
  "nbformat": 4,
  "nbformat_minor": 0,
  "metadata": {
    "colab": {
      "provenance": [],
      "gpuType": "T4",
      "authorship_tag": "ABX9TyOXehVxOM5FaIpSSmP4eN3W",
      "include_colab_link": true
    },
    "kernelspec": {
      "name": "python3",
      "display_name": "Python 3"
    },
    "language_info": {
      "name": "python"
    },
    "accelerator": "GPU"
  },
  "cells": [
    {
      "cell_type": "markdown",
      "metadata": {
        "id": "view-in-github",
        "colab_type": "text"
      },
      "source": [
        "<a href=\"https://colab.research.google.com/github/adnaen/machine-learning-notes/blob/main/DEEP_LEARNING/pytorch_tutorial.ipynb\" target=\"_parent\"><img src=\"https://colab.research.google.com/assets/colab-badge.svg\" alt=\"Open In Colab\"/></a>"
      ]
    },
    {
      "cell_type": "code",
      "execution_count": 1,
      "metadata": {
        "id": "VJs44ca1e8ZB"
      },
      "outputs": [],
      "source": [
        "import torch"
      ]
    },
    {
      "cell_type": "code",
      "source": [
        "device = \"cuda\" if torch.cuda.is_available() else \"cpu\"\n",
        "device"
      ],
      "metadata": {
        "colab": {
          "base_uri": "https://localhost:8080/",
          "height": 35
        },
        "id": "unOZTDnEgo5m",
        "outputId": "eadbf30b-9d67-403a-93a2-b1cfa07a6b00"
      },
      "execution_count": 13,
      "outputs": [
        {
          "output_type": "execute_result",
          "data": {
            "text/plain": [
              "'cuda'"
            ],
            "application/vnd.google.colaboratory.intrinsic+json": {
              "type": "string"
            }
          },
          "metadata": {},
          "execution_count": 13
        }
      ]
    },
    {
      "cell_type": "markdown",
      "source": [
        "create random (3,4) `tensor` and print its shape"
      ],
      "metadata": {
        "id": "ZlYuKq0yfSLh"
      }
    },
    {
      "cell_type": "code",
      "source": [
        "tensor = torch.rand((3,4))\n",
        "print(tensor.size())"
      ],
      "metadata": {
        "colab": {
          "base_uri": "https://localhost:8080/"
        },
        "id": "wFMbDrV6fPNA",
        "outputId": "a36c0c8f-c5df-4348-ea23-5fe1b2921107"
      },
      "execution_count": 23,
      "outputs": [
        {
          "output_type": "stream",
          "name": "stdout",
          "text": [
            "torch.Size([3, 4])\n"
          ]
        }
      ]
    },
    {
      "cell_type": "markdown",
      "source": [
        "create tensor with `ones` with shape (2,5), and convert it to Numpy Array"
      ],
      "metadata": {
        "id": "PoS0cOIwfoue"
      }
    },
    {
      "cell_type": "code",
      "source": [
        "ones_tensor = torch.ones((2,5))\n",
        "ones_tensor.numpy()"
      ],
      "metadata": {
        "colab": {
          "base_uri": "https://localhost:8080/"
        },
        "id": "AYRARj5bffeI",
        "outputId": "2975e8cc-92d5-4d66-b887-3e9d487c1f4e"
      },
      "execution_count": 5,
      "outputs": [
        {
          "output_type": "execute_result",
          "data": {
            "text/plain": [
              "array([[1., 1., 1., 1., 1.],\n",
              "       [1., 1., 1., 1., 1.]], dtype=float32)"
            ]
          },
          "metadata": {},
          "execution_count": 5
        }
      ]
    },
    {
      "cell_type": "markdown",
      "source": [
        "perform `element wise addition` of two tensors of shape (4,4)"
      ],
      "metadata": {
        "id": "Ey2Uec3ggWBG"
      }
    },
    {
      "cell_type": "code",
      "source": [
        "a = torch.rand(4,4)\n",
        "b = torch.rand(4,4)\n",
        "\n",
        "a*b"
      ],
      "metadata": {
        "colab": {
          "base_uri": "https://localhost:8080/"
        },
        "id": "FvM2LI5zf2EX",
        "outputId": "d24d6e83-a9d7-4f29-cfa8-aa4796acaf3d"
      },
      "execution_count": 7,
      "outputs": [
        {
          "output_type": "execute_result",
          "data": {
            "text/plain": [
              "tensor([[0.0857, 0.1249, 0.0331, 0.6429],\n",
              "        [0.0771, 0.1771, 0.1775, 0.6819],\n",
              "        [0.0142, 0.6532, 0.0247, 0.8613],\n",
              "        [0.4183, 0.0138, 0.8042, 0.9174]])"
            ]
          },
          "metadata": {},
          "execution_count": 7
        }
      ]
    },
    {
      "cell_type": "markdown",
      "source": [
        "create a tensor with values [2,6,8] and `reshape` it into a (2,2)"
      ],
      "metadata": {
        "id": "22auiOYlgxz3"
      }
    },
    {
      "cell_type": "code",
      "source": [
        "new_tensor = torch.tensor([2, 4, 6, 8])\n",
        "new_tensor.reshape([2,2])"
      ],
      "metadata": {
        "colab": {
          "base_uri": "https://localhost:8080/"
        },
        "id": "0VNZ4v3MghiL",
        "outputId": "26fa533c-af6b-42f8-e48a-e3283b06646f"
      },
      "execution_count": 11,
      "outputs": [
        {
          "output_type": "execute_result",
          "data": {
            "text/plain": [
              "tensor([[2, 4],\n",
              "        [6, 8]])"
            ]
          },
          "metadata": {},
          "execution_count": 11
        }
      ]
    },
    {
      "cell_type": "markdown",
      "source": [
        "`generate a tensor` of random integers between 0 and 10 wih shape (3,3)"
      ],
      "metadata": {
        "id": "GpLCmiMyhU7H"
      }
    },
    {
      "cell_type": "code",
      "source": [
        "torch.randint(low=0, high=10, size=(3,3))"
      ],
      "metadata": {
        "colab": {
          "base_uri": "https://localhost:8080/"
        },
        "id": "SCFi-HiKhHs1",
        "outputId": "7b3bb483-df66-46c0-88be-ce52e256a226"
      },
      "execution_count": 24,
      "outputs": [
        {
          "output_type": "execute_result",
          "data": {
            "text/plain": [
              "tensor([[0, 4, 5],\n",
              "        [2, 4, 2],\n",
              "        [4, 3, 4]])"
            ]
          },
          "metadata": {},
          "execution_count": 24
        }
      ]
    }
  ]
}