{
  "nbformat": 4,
  "nbformat_minor": 0,
  "metadata": {
    "colab": {
      "provenance": [],
      "authorship_tag": "ABX9TyPIc09WcsVK89Hv2hPrVSOU",
      "include_colab_link": true
    },
    "kernelspec": {
      "name": "python3",
      "display_name": "Python 3"
    },
    "language_info": {
      "name": "python"
    }
  },
  "cells": [
    {
      "cell_type": "markdown",
      "metadata": {
        "id": "view-in-github",
        "colab_type": "text"
      },
      "source": [
        "<a href=\"https://colab.research.google.com/github/adnaen/machine-learning-notes/blob/main/DEEP_LEARNING/multilayer_perceptron.ipynb\" target=\"_parent\"><img src=\"https://colab.research.google.com/assets/colab-badge.svg\" alt=\"Open In Colab\"/></a>"
      ]
    },
    {
      "cell_type": "markdown",
      "source": [
        "# **MultiLayer Perceptron from Scratch (using NumPy)**"
      ],
      "metadata": {
        "id": "_7AIDw0DyLQ_"
      }
    },
    {
      "cell_type": "markdown",
      "source": [
        "- **MLP is a Multi Layer Perceptron Architecture**"
      ],
      "metadata": {
        "id": "xj6u8sHCzwun"
      }
    },
    {
      "cell_type": "code",
      "execution_count": null,
      "metadata": {
        "id": "O7vy6haLyFyM"
      },
      "outputs": [],
      "source": [
        "import numpy as np\n",
        "\n",
        "np.random.seed(2342)"
      ]
    },
    {
      "cell_type": "code",
      "source": [
        "class MLP:\n",
        "    def __init__(\n",
        "            self,\n",
        "            in_feature: int,\n",
        "            out_feature: int,\n",
        "            h1_feature: int,\n",
        "            h2_feature: int,\n",
        "            lr: float = 0.001,\n",
        "            epochs: int = 50\n",
        "        ) -> None:\n",
        "        self.in_feature = in_feature\n",
        "        self.out_feature = out_feature\n",
        "        self.h1_feature = h1_feature\n",
        "        self.h2_feature = h2_feature\n",
        "\n",
        "        self.lr =  lr\n",
        "        self.epochs = epochs\n",
        "\n",
        "        self.h1_weight = None\n",
        "        self.h2_weight = None\n",
        "        self.out_weight = None\n",
        "        self.h1_bias = None\n",
        "        self.h2_bias = None\n",
        "        self.out_bias = None\n",
        "\n",
        "    @staticmethod\n",
        "    def relu(z: np.ndarray | float | int) -> np.ndarray | float | int:\n",
        "        result = []\n",
        "        if isinstance(z, np.ndarray):\n",
        "            for each in z:\n",
        "                result.append([max(0, i) for i in each])\n",
        "            return np.array(result)\n",
        "        return max(0, z)\n",
        "\n",
        "    def linear_transformation(\n",
        "            self,\n",
        "            x: np.ndarray,\n",
        "            w: np.ndarray,\n",
        "            b: np.ndarray\n",
        "            ) -> None:\n",
        "        return np.dot(w, x) + b\n",
        "\n",
        "    def fit(self, x) -> None:\n",
        "        # initialize random weight\n",
        "        self.h1_weight = np.random.randn(self.in_feature, self.h1_feature) * 0.001\n",
        "        self.h2_weight = np.random.randn(self.h1_feature, self.h2_feature) * 0.001\n",
        "        self.out_weight = np.random.randn(self.h2_feature, self.out_feature) * 0.001\n",
        "\n",
        "        # initialize bias with zeros\n",
        "        self.h1_bias = np.zeros((self.h1_feature, 1))\n",
        "        self.h2_bias = np.zeros((self.h2_feature, 1))\n",
        "        self.out_bias = np.zeros((self.out_feature, 1))\n",
        "\n",
        "        for epoch in range(self.epochs):\n",
        "            # training\n",
        "\n",
        "            Z1 = np.dot(self.h1_weight.T, x) + self.h1_bias\n",
        "            A1 = self.relu(z=Z1)\n",
        "            print(f\"{A1=}\")\n",
        "\n",
        "            Z2 = np.dot(self.h2_weight.T, A1) + self.h2_bias\n",
        "            A2 = self.relu(z=Z2)\n",
        "            print(f\"{A2=}\")\n",
        "\n",
        "            Z3 = np.dot(self.out_weight.T, A2) + self.out_bias\n",
        "            A3 = self.relu(z=Z3)\n",
        "            print(f\"{A3=}\")\n",
        "\n",
        "            if epoch % 10 == 0:\n",
        "                print(f\"CURRENT EPOCH : {epoch}\")\n",
        "                print(f\"WEIGHTS\\n{self.h1_weight=}\\n{self.h2_weight=}\\n{self.out_weight=}\")\n",
        "                print(f\"BIAS\\n{self.h1_bias=}\\n{self.h2_bias=}\\n{self.out_bias=}\")\n",
        "\n",
        "    def predict(self) -> None:..."
      ],
      "metadata": {
        "id": "OGAW73iUyVVy"
      },
      "execution_count": null,
      "outputs": []
    }
  ]
}