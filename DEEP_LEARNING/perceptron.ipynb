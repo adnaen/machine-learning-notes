{
  "nbformat": 4,
  "nbformat_minor": 0,
  "metadata": {
    "colab": {
      "provenance": [],
      "authorship_tag": "ABX9TyPi7E+h79sfGlzl93OXlpRt",
      "include_colab_link": true
    },
    "kernelspec": {
      "name": "python3",
      "display_name": "Python 3"
    },
    "language_info": {
      "name": "python"
    }
  },
  "cells": [
    {
      "cell_type": "markdown",
      "metadata": {
        "id": "view-in-github",
        "colab_type": "text"
      },
      "source": [
        "<a href=\"https://colab.research.google.com/github/adnaen/machine-learning-notes/blob/main/DEEP_LEARNING/perceptron.ipynb\" target=\"_parent\"><img src=\"https://colab.research.google.com/assets/colab-badge.svg\" alt=\"Open In Colab\"/></a>"
      ]
    },
    {
      "cell_type": "markdown",
      "source": [
        "# **Implement Perceptron from sractch with only using Numpy 🔥**"
      ],
      "metadata": {
        "id": "1Ca_szK_wYxP"
      }
    },
    {
      "cell_type": "markdown",
      "source": [
        "### **Perceptron Architechture**\n",
        "- Perceptron are the base building block in Neural Networks.\n",
        "- All other neurons are extended version of this.\n",
        "- **Inside of Perceptron**\n",
        "    - Calculate linear transformation (weighted sun) : y = wx+b\n",
        "    - Apply activation function (only step function) : z = 1 if z>=0 else 0\n",
        "    - Update weight only the prediction is diffrent with rule based (not gradient based)\n",
        "    - Because of the rule based param update, we use a single sample at a time to train\n",
        "    "
      ],
      "metadata": {
        "id": "n_jUNv6oww2E"
      }
    },
    {
      "cell_type": "code",
      "execution_count": 1,
      "metadata": {
        "id": "coGwyqMowSah"
      },
      "outputs": [],
      "source": [
        "import numpy as np"
      ]
    },
    {
      "cell_type": "code",
      "source": [
        "class Perceptron:\n",
        "    def __init__(self, lr: float = 0.001, epochs: int = 30) -> None:\n",
        "        self.lr = lr\n",
        "        self.epochs = epochs\n",
        "\n",
        "    @staticmethod\n",
        "    def activation(z: float | list[float]) -> int | np.ndarray:\n",
        "        return np.where(z>=0, 1, 0) if isinstance(z, np.ndarray) else (1 if z>= 0 else 0)\n",
        "\n",
        "    def predict(self, x) -> int:\n",
        "        summation = np.dot(x, self.weight) + self.bias\n",
        "        return Perceptron.activation(summation)\n",
        "\n",
        "    def fit(self, x, y) -> None:\n",
        "        self.weight = np.random.randn(x.shape[1])\n",
        "        self.bias  = float(np.random.randn(1))\n",
        "\n",
        "        for i in range(self.epochs):\n",
        "            for each in range(x.shape[0]):\n",
        "                y_pred = self.predict(x[each])\n",
        "                error = y[each] - y_pred\n",
        "                self.weight += self.lr * error * x[each]\n",
        "                self.bias += self.lr * error\n",
        "\n",
        "            if i % 5 == 0:\n",
        "                print(f\"Epochs : {self.epochs}\")\n",
        "                print(f\"Weight in {i} : {self.weight=}\")\n",
        "                print(f\"Bias in {i} : {self.bias=}\")\n",
        "\n"
      ],
      "metadata": {
        "id": "5FbR3MYZwuQ2"
      },
      "execution_count": 18,
      "outputs": []
    },
    {
      "cell_type": "code",
      "source": [
        "x = np.array([[0, 0], [0, 1], [1, 0], [1, 1]])\n",
        "y = np.array([0, 0, 0, 1])"
      ],
      "metadata": {
        "id": "zD-EYBqq27a0"
      },
      "execution_count": 19,
      "outputs": []
    },
    {
      "cell_type": "code",
      "source": [
        "model = Perceptron(epochs=30)"
      ],
      "metadata": {
        "id": "Z_3JFmg43FxC"
      },
      "execution_count": 20,
      "outputs": []
    },
    {
      "cell_type": "code",
      "source": [
        "model.fit(x,y)"
      ],
      "metadata": {
        "colab": {
          "base_uri": "https://localhost:8080/"
        },
        "id": "O0Wa53Ac7iZp",
        "outputId": "c7e91d98-169e-478d-d624-77c042500404"
      },
      "execution_count": 21,
      "outputs": [
        {
          "output_type": "stream",
          "name": "stdout",
          "text": [
            "Epochs : 30\n",
            "Weight in 0 : self.weight=array([-1.70055611, -1.22549438])\n",
            "Bias in 0 : self.bias=0.502063676635442\n",
            "Epochs : 30\n",
            "Weight in 5 : self.weight=array([-1.69555611, -1.22049438])\n",
            "Bias in 5 : self.bias=0.502063676635442\n",
            "Epochs : 30\n",
            "Weight in 10 : self.weight=array([-1.69055611, -1.21549438])\n",
            "Bias in 10 : self.bias=0.502063676635442\n",
            "Epochs : 30\n",
            "Weight in 15 : self.weight=array([-1.68555611, -1.21049438])\n",
            "Bias in 15 : self.bias=0.502063676635442\n",
            "Epochs : 30\n",
            "Weight in 20 : self.weight=array([-1.68055611, -1.20549438])\n",
            "Bias in 20 : self.bias=0.502063676635442\n",
            "Epochs : 30\n",
            "Weight in 25 : self.weight=array([-1.67555611, -1.20049438])\n",
            "Bias in 25 : self.bias=0.502063676635442\n"
          ]
        },
        {
          "output_type": "stream",
          "name": "stderr",
          "text": [
            "<ipython-input-18-0c4f2c291180>:16: DeprecationWarning: Conversion of an array with ndim > 0 to a scalar is deprecated, and will error in future. Ensure you extract a single element from your array before performing this operation. (Deprecated NumPy 1.25.)\n",
            "  self.bias  = float(np.random.randn(1))\n"
          ]
        }
      ]
    },
    {
      "cell_type": "code",
      "source": [
        "model.predict(x)"
      ],
      "metadata": {
        "colab": {
          "base_uri": "https://localhost:8080/"
        },
        "id": "81ZErSs57kpb",
        "outputId": "21af23f8-0a3e-464d-a91a-e1c158d5726f"
      },
      "execution_count": 22,
      "outputs": [
        {
          "output_type": "execute_result",
          "data": {
            "text/plain": [
              "array([1, 0, 0, 0])"
            ]
          },
          "metadata": {},
          "execution_count": 22
        }
      ]
    },
    {
      "cell_type": "code",
      "source": [],
      "metadata": {
        "id": "2BGuzNM5TnSa"
      },
      "execution_count": null,
      "outputs": []
    }
  ]
}