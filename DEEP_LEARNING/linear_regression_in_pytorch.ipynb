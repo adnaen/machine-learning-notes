{
  "nbformat": 4,
  "nbformat_minor": 0,
  "metadata": {
    "colab": {
      "provenance": [],
      "gpuType": "T4",
      "authorship_tag": "ABX9TyPFyiAw9U3VM/0XnjTggVx7",
      "include_colab_link": true
    },
    "kernelspec": {
      "name": "python3",
      "display_name": "Python 3"
    },
    "language_info": {
      "name": "python"
    },
    "accelerator": "GPU"
  },
  "cells": [
    {
      "cell_type": "markdown",
      "metadata": {
        "id": "view-in-github",
        "colab_type": "text"
      },
      "source": [
        "<a href=\"https://colab.research.google.com/github/adnaen/machine-learning-notes/blob/main/DEEP_LEARNING/linear_regression_in_pytorch.ipynb\" target=\"_parent\"><img src=\"https://colab.research.google.com/assets/colab-badge.svg\" alt=\"Open In Colab\"/></a>"
      ]
    },
    {
      "cell_type": "markdown",
      "source": [
        "# **Linear Regression in PyTorch**"
      ],
      "metadata": {
        "id": "-aIMvUSVQUSa"
      }
    },
    {
      "cell_type": "code",
      "source": [
        "import torch\n",
        "from torch import nn\n",
        "from torch import Tensor\n",
        "from sklearn.model_selection import train_test_split"
      ],
      "metadata": {
        "id": "XfGyJmnNUgTH"
      },
      "execution_count": 24,
      "outputs": []
    },
    {
      "cell_type": "code",
      "source": [
        "x = torch.randn(200,10)\n",
        "y = torch.randn(200)\n",
        "\n",
        "x_train, x_test, y_train, y_test = train_test_split(x, y, shuffle=True, random_state=2382, test_size=.2)\n",
        "\n",
        "(x_train.shape, y_train.shape), (x_test.shape, y_test.shape)"
      ],
      "metadata": {
        "colab": {
          "base_uri": "https://localhost:8080/"
        },
        "id": "zdtzCIWc9Lf5",
        "outputId": "a59f74e6-c4d7-4842-c2cb-c19be0ed7564"
      },
      "execution_count": 21,
      "outputs": [
        {
          "output_type": "execute_result",
          "data": {
            "text/plain": [
              "((torch.Size([160, 10]), torch.Size([160])),\n",
              " (torch.Size([40, 10]), torch.Size([40])))"
            ]
          },
          "metadata": {},
          "execution_count": 21
        }
      ]
    },
    {
      "cell_type": "code",
      "source": [
        "class LinearRegression(nn.Module):\n",
        "    \"\"\"\n",
        "    Linear Regression: we can represent it as a input and output layer Neural Net.\n",
        "    It dont have hidden layer.\n",
        "    \"\"\"\n",
        "    def __init__(self, features: int) -> None:\n",
        "        super(LinearRegression, self).__init__()\n",
        "        \"\"\"\n",
        "        I/p Layer: feature (int)\n",
        "        O/p Layer: 1\n",
        "        \"\"\"\n",
        "        self.layer = nn.Linear(features, 1)\n",
        "\n",
        "    def forward(self, x: Tensor) -> None:\n",
        "        return self.layer(x)\n",
        "\n",
        "\n",
        "model = LinearRegression(features=10)\n",
        "criterion = nn.MSELoss()\n",
        "optim = torch.optim.SGD(params=model.parameters(), lr=0.01)\n",
        "\n",
        "epoch = 1000\n",
        "\n",
        "for i in range(epoch):\n",
        "    y_pred = model(x_train)\n",
        "    loss = criterion(y_pred, y_train)\n",
        "\n",
        "    optim.zero_grad()\n",
        "    loss.backward()\n",
        "    optim.step()\n",
        "\n",
        "    if i % 100 == 0:\n",
        "        print(f\"Epoch : {i}, Loss : {loss.item()}\")\n",
        "print(\"TRAIN COMPLETED!\")"
      ],
      "metadata": {
        "id": "4-J_deiuUi7I",
        "colab": {
          "base_uri": "https://localhost:8080/"
        },
        "outputId": "a58b5beb-6c95-4a17-e938-0d9041f4b704"
      },
      "execution_count": 26,
      "outputs": [
        {
          "output_type": "stream",
          "name": "stdout",
          "text": [
            "Epoch : 0, Loss : 1.4693516492843628\n",
            "Epoch : 100, Loss : 1.060721516609192\n",
            "Epoch : 200, Loss : 1.0430909395217896\n",
            "Epoch : 300, Loss : 1.0415210723876953\n",
            "Epoch : 400, Loss : 1.0413516759872437\n",
            "Epoch : 500, Loss : 1.0413323640823364\n",
            "Epoch : 600, Loss : 1.0413302183151245\n",
            "Epoch : 700, Loss : 1.0413298606872559\n",
            "Epoch : 800, Loss : 1.0413298606872559\n",
            "Epoch : 900, Loss : 1.0413298606872559\n",
            "TRAIN COMPLETED!\n"
          ]
        }
      ]
    },
    {
      "cell_type": "code",
      "source": [
        "y_test_pred = model(x_test)\n",
        "loss = criterion(y_test_pred, y_test)\n",
        "loss.item()"
      ],
      "metadata": {
        "colab": {
          "base_uri": "https://localhost:8080/"
        },
        "id": "_0EDB1tfznMB",
        "outputId": "0cd1d48b-0c07-4929-f718-f9d9578d78d9"
      },
      "execution_count": 28,
      "outputs": [
        {
          "output_type": "stream",
          "name": "stderr",
          "text": [
            "/usr/local/lib/python3.11/dist-packages/torch/nn/modules/loss.py:610: UserWarning: Using a target size (torch.Size([40])) that is different to the input size (torch.Size([40, 1])). This will likely lead to incorrect results due to broadcasting. Please ensure they have the same size.\n",
            "  return F.mse_loss(input, target, reduction=self.reduction)\n"
          ]
        },
        {
          "output_type": "execute_result",
          "data": {
            "text/plain": [
              "0.8241180181503296"
            ]
          },
          "metadata": {},
          "execution_count": 28
        }
      ]
    },
    {
      "cell_type": "code",
      "source": [],
      "metadata": {
        "id": "9b1obktW_V9a"
      },
      "execution_count": null,
      "outputs": []
    }
  ]
}