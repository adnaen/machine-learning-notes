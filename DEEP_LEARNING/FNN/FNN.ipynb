{
  "nbformat": 4,
  "nbformat_minor": 0,
  "metadata": {
    "colab": {
      "provenance": [],
      "authorship_tag": "ABX9TyNe0DAgSxZ8yIDlegT0esil",
      "include_colab_link": true
    },
    "kernelspec": {
      "name": "python3",
      "display_name": "Python 3"
    },
    "language_info": {
      "name": "python"
    }
  },
  "cells": [
    {
      "cell_type": "markdown",
      "metadata": {
        "id": "view-in-github",
        "colab_type": "text"
      },
      "source": [
        "<a href=\"https://colab.research.google.com/github/adnaen/machine-learning-notes/blob/main/DEEP_LEARNING/FNN/FNN.ipynb\" target=\"_parent\"><img src=\"https://colab.research.google.com/assets/colab-badge.svg\" alt=\"Open In Colab\"/></a>"
      ]
    },
    {
      "cell_type": "markdown",
      "source": [
        "# **Feed Forward Neural Network**"
      ],
      "metadata": {
        "id": "AxHFhMYALyiU"
      }
    },
    {
      "cell_type": "code",
      "source": [
        "import torch\n",
        "from torch import Tensor\n",
        "from torch import nn"
      ],
      "metadata": {
        "id": "M_gD8kj3L9Nk"
      },
      "execution_count": 1,
      "outputs": []
    },
    {
      "cell_type": "markdown",
      "source": [
        "## **Model Architecture**"
      ],
      "metadata": {
        "id": "870ujmlGaAEH"
      }
    },
    {
      "cell_type": "code",
      "execution_count": 21,
      "metadata": {
        "id": "pF-1YovALR1L"
      },
      "outputs": [],
      "source": [
        "class FeedForwardNN(nn.Module):\n",
        "    def __init__(self, ip_features: int, h1_features: int, h2_features: int, op_features: int) -> None:\n",
        "        super().__init__()\n",
        "\n",
        "        self.ip_features = ip_features\n",
        "        self.h1_features = h1_features\n",
        "        self.h2_features = h2_features\n",
        "        self.op_features = op_features\n",
        "\n",
        "        # linear layers\n",
        "        self.ip_layer = nn.Linear(self.ip_features, self.h1_features)\n",
        "        self.h1_layer = nn.Linear(self.h1_features, self.h2_features)\n",
        "        self.h2_layer = nn.Linear(self.h2_features, self.op_features)\n",
        "\n",
        "        # activation\n",
        "        self.relu = nn.LeakyReLU()\n",
        "\n",
        "    def forward(self, x: Tensor) -> Tensor:\n",
        "        z1 = self.ip_layer(x)\n",
        "        a1 = self.relu(z1)\n",
        "\n",
        "        z2 = self.h1_layer(a1)\n",
        "        a2 = self.relu(z2)\n",
        "\n",
        "        # since it is a regression probelm we dont need to apply activation on output layer.\n",
        "        return self.h2_layer(a2)\n"
      ]
    },
    {
      "cell_type": "markdown",
      "source": [
        "## **Generate Random Data**"
      ],
      "metadata": {
        "id": "YG0k4ZTsZ8Gu"
      }
    },
    {
      "cell_type": "code",
      "source": [
        "# dummy data\n",
        "from sklearn.datasets import make_regression\n",
        "from sklearn.model_selection import train_test_split\n",
        "from sklearn.preprocessing import StandardScaler\n",
        "\n",
        "x, y = make_regression(n_samples=1000, n_features=10)\n",
        "x = torch.tensor(x, dtype=torch.float32)\n",
        "y = torch.tensor(y, dtype=torch.float32)\n",
        "\n",
        "x_train, x_test, y_train, y_test = train_test_split(x, y, test_size=.2)\n",
        "\n",
        "# normalize data\n",
        "scaler = StandardScaler()\n",
        "x_train = torch.tensor(scaler.fit_transform(x_train.numpy()), dtype=torch.float32)\n",
        "x_test = torch.tensor(scaler.transform(x_test.numpy()), dtype=torch.float32)\n",
        "\n",
        "(x_train.shape, y_train.shape), (x_test.shape, y_test.shape)"
      ],
      "metadata": {
        "colab": {
          "base_uri": "https://localhost:8080/"
        },
        "id": "Tdn7sVNROXwX",
        "outputId": "a693ca07-1a84-4dc5-92d4-e0e6c100f95f"
      },
      "execution_count": 27,
      "outputs": [
        {
          "output_type": "execute_result",
          "data": {
            "text/plain": [
              "((torch.Size([800, 10]), torch.Size([800])),\n",
              " (torch.Size([200, 10]), torch.Size([200])))"
            ]
          },
          "metadata": {},
          "execution_count": 27
        }
      ]
    },
    {
      "cell_type": "markdown",
      "source": [
        "## **Model Training**"
      ],
      "metadata": {
        "id": "QMNMLtXDZ5SS"
      }
    },
    {
      "cell_type": "code",
      "source": [
        "model = FeedForwardNN(ip_features=10, h1_features=15, h2_features=10, op_features=1)\n",
        "\n",
        "epochs = 2000\n",
        "criterion = nn.MSELoss()\n",
        "optim = torch.optim.SGD(model.parameters(), lr=0.01)\n",
        "\n",
        "for i in range(epochs):\n",
        "    y_pred = model(x_train)\n",
        "    loss = criterion(y_pred, y_train)\n",
        "    optim.zero_grad()\n",
        "    loss.backward()\n",
        "    optim.step()\n",
        "\n",
        "    if i % 100 == 0:\n",
        "        print(f\"Epoch : {i}, Loss : {loss.item()}\")"
      ],
      "metadata": {
        "colab": {
          "base_uri": "https://localhost:8080/"
        },
        "id": "UYFag4anOK_L",
        "outputId": "3a145c9e-ca7c-48bc-bf9e-928d86783cbb"
      },
      "execution_count": 30,
      "outputs": [
        {
          "output_type": "stream",
          "name": "stdout",
          "text": [
            "Epoch : 0, Loss : 14258.2685546875\n",
            "Epoch : 100, Loss : 14207.5361328125\n",
            "Epoch : 200, Loss : 14207.44140625\n",
            "Epoch : 300, Loss : 14207.4052734375\n",
            "Epoch : 400, Loss : 14207.38671875\n",
            "Epoch : 500, Loss : 14207.37890625\n",
            "Epoch : 600, Loss : 14207.373046875\n",
            "Epoch : 700, Loss : 14207.369140625\n",
            "Epoch : 800, Loss : 14207.365234375\n",
            "Epoch : 900, Loss : 14207.365234375\n",
            "Epoch : 1000, Loss : 14207.36328125\n",
            "Epoch : 1100, Loss : 14207.361328125\n",
            "Epoch : 1200, Loss : 14207.361328125\n",
            "Epoch : 1300, Loss : 14207.361328125\n",
            "Epoch : 1400, Loss : 14207.3603515625\n",
            "Epoch : 1500, Loss : 14207.3603515625\n",
            "Epoch : 1600, Loss : 14207.3603515625\n",
            "Epoch : 1700, Loss : 14207.3603515625\n",
            "Epoch : 1800, Loss : 14207.3603515625\n",
            "Epoch : 1900, Loss : 14207.3583984375\n"
          ]
        }
      ]
    },
    {
      "cell_type": "code",
      "source": [],
      "metadata": {
        "id": "rYB0JjL1ZcXh"
      },
      "execution_count": null,
      "outputs": []
    }
  ]
}