{
  "nbformat": 4,
  "nbformat_minor": 0,
  "metadata": {
    "colab": {
      "provenance": [],
      "authorship_tag": "ABX9TyP1bbCRAwuu/Mf4AMbq6xls",
      "include_colab_link": true
    },
    "kernelspec": {
      "name": "python3",
      "display_name": "Python 3"
    },
    "language_info": {
      "name": "python"
    }
  },
  "cells": [
    {
      "cell_type": "markdown",
      "metadata": {
        "id": "view-in-github",
        "colab_type": "text"
      },
      "source": [
        "<a href=\"https://colab.research.google.com/github/adnaen/machine-learning-notes/blob/main/DEEP_LEARNING/FNN/FNN.ipynb\" target=\"_parent\"><img src=\"https://colab.research.google.com/assets/colab-badge.svg\" alt=\"Open In Colab\"/></a>"
      ]
    },
    {
      "cell_type": "markdown",
      "source": [
        "# **Feed Forward Neural Network**"
      ],
      "metadata": {
        "id": "AxHFhMYALyiU"
      }
    },
    {
      "cell_type": "code",
      "source": [
        "import torch\n",
        "from torch import Tensor\n",
        "from torch import nn"
      ],
      "metadata": {
        "id": "M_gD8kj3L9Nk"
      },
      "execution_count": 1,
      "outputs": []
    },
    {
      "cell_type": "markdown",
      "source": [
        "## **Dummy Data**"
      ],
      "metadata": {
        "id": "YG0k4ZTsZ8Gu"
      }
    },
    {
      "cell_type": "code",
      "source": [
        "# dummy data\n",
        "from sklearn.datasets import make_regression\n",
        "from sklearn.model_selection import train_test_split\n",
        "from sklearn.preprocessing import StandardScaler\n",
        "\n",
        "x, y = make_regression(n_samples=1000, n_features=10)\n",
        "x = torch.tensor(x, dtype=torch.float32)\n",
        "y = torch.tensor(y, dtype=torch.float32).view(-1, 1)\n",
        "\n",
        "x_train, x_test, y_train, y_test = train_test_split(x, y, test_size=.2)\n",
        "\n",
        "# normalize data\n",
        "scaler = StandardScaler()\n",
        "x_train = torch.tensor(scaler.fit_transform(x_train.numpy()), dtype=torch.float32)\n",
        "x_test = torch.tensor(scaler.transform(x_test.numpy()), dtype=torch.float32)\n",
        "\n",
        "(x_train.shape, y_train.shape), (x_test.shape, y_test.shape)"
      ],
      "metadata": {
        "colab": {
          "base_uri": "https://localhost:8080/"
        },
        "id": "Tdn7sVNROXwX",
        "outputId": "5c83d110-bed5-49d3-d2e5-0b381bfaaa8d"
      },
      "execution_count": 10,
      "outputs": [
        {
          "output_type": "execute_result",
          "data": {
            "text/plain": [
              "((torch.Size([800, 10]), torch.Size([800, 1])),\n",
              " (torch.Size([200, 10]), torch.Size([200, 1])))"
            ]
          },
          "metadata": {},
          "execution_count": 10
        }
      ]
    },
    {
      "cell_type": "markdown",
      "source": [
        "## **Model Architecture**"
      ],
      "metadata": {
        "id": "870ujmlGaAEH"
      }
    },
    {
      "cell_type": "code",
      "execution_count": 5,
      "metadata": {
        "id": "pF-1YovALR1L"
      },
      "outputs": [],
      "source": [
        "class FeedForwardNN(nn.Module):\n",
        "    def __init__(self, ip_features: int, h1_features: int, h2_features: int, op_features: int) -> None:\n",
        "        super().__init__()\n",
        "\n",
        "        # linear layers\n",
        "        self.ip_layer = nn.Linear(ip_features, h1_features)\n",
        "        self.h1_layer = nn.Linear(h1_features, h2_features)\n",
        "        self.h2_layer = nn.Linear(h2_features, op_features)\n",
        "\n",
        "        # activation\n",
        "        self.relu = nn.ReLU()\n",
        "\n",
        "    def forward(self, x: Tensor) -> Tensor:\n",
        "        z1 = self.ip_layer(x)\n",
        "        a1 = self.relu(z1)\n",
        "\n",
        "        z2 = self.h1_layer(a1)\n",
        "        a2 = self.relu(z2)\n",
        "\n",
        "        return self.h2_layer(a2)\n"
      ]
    },
    {
      "cell_type": "markdown",
      "source": [
        "## **Training**"
      ],
      "metadata": {
        "id": "QMNMLtXDZ5SS"
      }
    },
    {
      "cell_type": "code",
      "source": [
        "model = FeedForwardNN(ip_features=10, h1_features=15, h2_features=10, op_features=1)\n",
        "\n",
        "epochs = 2000\n",
        "criterion = nn.MSELoss()\n",
        "optim = torch.optim.Adam(model.parameters(), lr=0.01)\n",
        "\n",
        "model.train()\n",
        "for i in range(epochs+1):\n",
        "    y_pred = model(x_train)\n",
        "    loss = criterion(y_pred, y_train)\n",
        "    optim.zero_grad()\n",
        "    loss.backward()\n",
        "    optim.step()\n",
        "\n",
        "    if i % 500 == 0:\n",
        "        print(f\"Epoch : {i}, Loss : {loss.item()}\")"
      ],
      "metadata": {
        "colab": {
          "base_uri": "https://localhost:8080/"
        },
        "id": "UYFag4anOK_L",
        "outputId": "4060142d-4f55-45d0-8bda-d40a3e53f3d9"
      },
      "execution_count": 16,
      "outputs": [
        {
          "output_type": "stream",
          "name": "stdout",
          "text": [
            "Epoch : 0, Loss : 41832.8828125\n",
            "Epoch : 500, Loss : 11.685770034790039\n",
            "Epoch : 1000, Loss : 1.4105660915374756\n",
            "Epoch : 1500, Loss : 0.42751771211624146\n",
            "Epoch : 2000, Loss : 0.18066489696502686\n"
          ]
        }
      ]
    },
    {
      "cell_type": "markdown",
      "source": [
        "## **Testing**"
      ],
      "metadata": {
        "id": "Uty2zs5fJ3f-"
      }
    },
    {
      "cell_type": "code",
      "source": [
        "model.eval()\n",
        "# turn of gradient calculation\n",
        "with torch.no_grad():\n",
        "    y_test_pred = model(x_test)"
      ],
      "metadata": {
        "id": "rYB0JjL1ZcXh"
      },
      "execution_count": 17,
      "outputs": []
    },
    {
      "cell_type": "code",
      "source": [
        "y_test_pred[:5]   # model predict"
      ],
      "metadata": {
        "colab": {
          "base_uri": "https://localhost:8080/"
        },
        "id": "1ocZN-bPL5zB",
        "outputId": "e1042e13-3a46-49f2-e393-fe7f180e097e"
      },
      "execution_count": 24,
      "outputs": [
        {
          "output_type": "execute_result",
          "data": {
            "text/plain": [
              "tensor([[ 103.7029],\n",
              "        [ 215.7287],\n",
              "        [ 224.0121],\n",
              "        [ 208.9366],\n",
              "        [-173.0688]])"
            ]
          },
          "metadata": {},
          "execution_count": 24
        }
      ]
    },
    {
      "cell_type": "code",
      "source": [
        "y_test[:5]      # looks same, right!!"
      ],
      "metadata": {
        "colab": {
          "base_uri": "https://localhost:8080/"
        },
        "id": "AZOHRJ8oL_kE",
        "outputId": "593ae6b1-7b84-471f-98aa-fa6625d04569"
      },
      "execution_count": 26,
      "outputs": [
        {
          "output_type": "execute_result",
          "data": {
            "text/plain": [
              "tensor([[ 103.1731],\n",
              "        [ 215.5997],\n",
              "        [ 223.9908],\n",
              "        [ 208.9307],\n",
              "        [-173.0240]])"
            ]
          },
          "metadata": {},
          "execution_count": 26
        }
      ]
    },
    {
      "cell_type": "markdown",
      "source": [
        "## **Evaluation**"
      ],
      "metadata": {
        "id": "GXr1j0xLKNFQ"
      }
    },
    {
      "cell_type": "code",
      "source": [
        "from matplotlib import pyplot as plt\n",
        "from sklearn.metrics import mean_squared_error, mean_absolute_error, r2_score\n",
        "\n",
        "mse_loss = mean_squared_error(y_test.numpy(), y_test_pred.numpy())\n",
        "mae_loss = mean_absolute_error(y_test.numpy(), y_test_pred.numpy())\n",
        "r2_ = r2_score(y_test.numpy(), y_test_pred.numpy())\n",
        "\n",
        "ax = plt.bar(x=[\"MSE\", \"MAE\", \"R2 SCORE\"], height=[mse_loss, mae_loss, r2_])\n",
        "plt.bar_label(ax)\n",
        "plt.show()\n"
      ],
      "metadata": {
        "colab": {
          "base_uri": "https://localhost:8080/",
          "height": 430
        },
        "id": "fFDB2uTbKMYi",
        "outputId": "ef6a99de-dfc2-47a4-d9bb-cd4c1c03b533"
      },
      "execution_count": 22,
      "outputs": [
        {
          "output_type": "display_data",
          "data": {
            "text/plain": [
              "<Figure size 640x480 with 1 Axes>"
            ],
            "image/png": "[encoded data removed]"
          },
          "metadata": {}
        }
      ]
    },
    {
      "cell_type": "code",
      "source": [],
      "metadata": {
        "id": "dsBZIVCGK5q3"
      },
      "execution_count": null,
      "outputs": []
    }
  ]
}